{
 "cells": [
  {
   "cell_type": "code",
   "execution_count": 1,
   "metadata": {},
   "outputs": [],
   "source": [
    "#import the required libraries\n",
    "import pandas as pd\n",
    "import matplotlib.pyplot as plt\n",
    "import seaborn as sns\n",
    "import warnings\n",
    "warnings.filterwarnings('ignore')"
   ]
  },
  {
   "cell_type": "code",
   "execution_count": 2,
   "metadata": {},
   "outputs": [],
   "source": [
    "#Read the file containing Customer Retention Data\n",
    "data=pd.read_csv(\"C:/Users/dravi/Desktop/Lenovo backup/swathi/Customer_retention_data.csv\",encoding='unicode_escape')\n"
   ]
  },
  {
   "cell_type": "code",
   "execution_count": 3,
   "metadata": {},
   "outputs": [
    {
     "data": {
      "text/plain": [
       "(269, 71)"
      ]
     },
     "execution_count": 3,
     "metadata": {},
     "output_type": "execute_result"
    }
   ],
   "source": [
    "data.shape"
   ]
  },
  {
   "cell_type": "code",
   "execution_count": 4,
   "metadata": {},
   "outputs": [],
   "source": [
    "pd.options.display.max_rows=300\n",
    "pd.options.display.max_columns=100"
   ]
  },
  {
   "cell_type": "code",
   "execution_count": 5,
   "metadata": {},
   "outputs": [
    {
     "data": {
      "text/html": [
       "<div>\n",
       "<style scoped>\n",
       "    .dataframe tbody tr th:only-of-type {\n",
       "        vertical-align: middle;\n",
       "    }\n",
       "\n",
       "    .dataframe tbody tr th {\n",
       "        vertical-align: top;\n",
       "    }\n",
       "\n",
       "    .dataframe thead th {\n",
       "        text-align: right;\n",
       "    }\n",
       "</style>\n",
       "<table border=\"1\" class=\"dataframe\">\n",
       "  <thead>\n",
       "    <tr style=\"text-align: right;\">\n",
       "      <th></th>\n",
       "      <th>1Gender of respondent</th>\n",
       "      <th>2 How old are you?</th>\n",
       "      <th>3 Which city do you shop online from?</th>\n",
       "      <th>4 What is the Pin Code of where you shop online from?</th>\n",
       "      <th>5 Since How Long You are Shopping Online ?</th>\n",
       "      <th>6 How many times you have made an online purchase in the past 1 year?</th>\n",
       "      <th>7 How do you access the internet while shopping on-line?</th>\n",
       "      <th>8 Which device do you use to access the online shopping?</th>\n",
       "      <th>9 What is the screen size of your mobile device?</th>\n",
       "      <th>10 What is the operating system (OS) of your device?</th>\n",
       "      <th>11 What browser do you run on your device to access the website?</th>\n",
       "      <th>12 Which channel did you follow to arrive at your favorite online store for the first time?</th>\n",
       "      <th>13 After first visit, how do you reach the online retail store?</th>\n",
       "      <th>14 How much time do you explore the e- retail store before making a purchase decision?</th>\n",
       "      <th>15 What is your preferred payment Option?</th>\n",
       "      <th>16 How frequently do you abandon (selecting an items and leaving without making payment) your shopping cart?</th>\n",
       "      <th>17 Why did you abandon the Bag, Shopping Cart?</th>\n",
       "      <th>18 The content on the website must be easy to read and understand</th>\n",
       "      <th>19 Information on similar product to the one highlighted  is important for product comparison</th>\n",
       "      <th>20 Complete information on listed seller and product being offered is important for purchase decision.</th>\n",
       "      <th>21 All relevant information on listed products must be stated clearly</th>\n",
       "      <th>22 Ease of navigation in website</th>\n",
       "      <th>23 Loading and processing speed</th>\n",
       "      <th>24 User friendly Interface of the website</th>\n",
       "      <th>25 Convenient Payment methods</th>\n",
       "      <th>26 Trust that the online retail store will fulfill its part of the transaction at the stipulated time</th>\n",
       "      <th>27 Empathy (readiness to assist with queries) towards the customers</th>\n",
       "      <th>28 Being able to guarantee the privacy of the customer</th>\n",
       "      <th>29 Responsiveness, availability of several communication channels (email, online rep, twitter, phone etc.)</th>\n",
       "      <th>30 Online shopping gives monetary benefit and discounts</th>\n",
       "      <th>31 Enjoyment is derived from shopping online</th>\n",
       "      <th>32 Shopping online is convenient and flexible</th>\n",
       "      <th>33 Return and replacement policy of the e-tailer is important for purchase decision</th>\n",
       "      <th>34 Gaining access to loyalty programs is a benefit of shopping online</th>\n",
       "      <th>35 Displaying quality Information on the website improves satisfaction of customers</th>\n",
       "      <th>36 User derive satisfaction while shopping on a good quality website or application</th>\n",
       "      <th>37 Net Benefit derived from shopping online can lead to users satisfaction</th>\n",
       "      <th>38 User satisfaction cannot exist without trust</th>\n",
       "      <th>39 Offering a wide variety of listed product in several category</th>\n",
       "      <th>40 Provision of complete and relevant product information</th>\n",
       "      <th>41 Monetary savings</th>\n",
       "      <th>42 The Convenience of patronizing the online retailer</th>\n",
       "      <th>43 Shopping on the website gives you the sense of adventure</th>\n",
       "      <th>44 Shopping on your preferred e-tailer enhances your social status</th>\n",
       "      <th>45 You feel gratification shopping on your favorite e-tailer</th>\n",
       "      <th>46 Shopping on the website helps you fulfill certain roles</th>\n",
       "      <th>47 Getting value for money spent</th>\n",
       "      <th>From the following, tick any (or all) of the online retailers you have shopped from;</th>\n",
       "      <th>Easy to use website or application</th>\n",
       "      <th>Visual appealing web-page layout</th>\n",
       "      <th>Wild variety of product on offer</th>\n",
       "      <th>Complete, relevant description information of products</th>\n",
       "      <th>Fast loading website speed of website and application</th>\n",
       "      <th>Reliability of the website or application</th>\n",
       "      <th>Quickness to complete purchase</th>\n",
       "      <th>Availability of several payment options</th>\n",
       "      <th>Speedy order delivery</th>\n",
       "      <th>Privacy of customers information</th>\n",
       "      <th>Security of customer financial information</th>\n",
       "      <th>Perceived Trustworthiness</th>\n",
       "      <th>Presence of online assistance through multi-channel</th>\n",
       "      <th>Longer time to get logged in (promotion, sales period)</th>\n",
       "      <th>Longer time in displaying graphics and photos (promotion, sales period)</th>\n",
       "      <th>Late declaration of price (promotion, sales period)</th>\n",
       "      <th>Longer page loading time (promotion, sales period)</th>\n",
       "      <th>Limited mode of payment on most products (promotion, sales period)</th>\n",
       "      <th>Longer delivery period</th>\n",
       "      <th>Change in website/Application design</th>\n",
       "      <th>Frequent disruption when moving from one page to another</th>\n",
       "      <th>Website is as efficient as before</th>\n",
       "      <th>Which of the Indian online retailer would you recommend to a friend?</th>\n",
       "    </tr>\n",
       "  </thead>\n",
       "  <tbody>\n",
       "    <tr>\n",
       "      <th>0</th>\n",
       "      <td>Male</td>\n",
       "      <td>31-40 years</td>\n",
       "      <td>Delhi</td>\n",
       "      <td>110009</td>\n",
       "      <td>Above 4 years</td>\n",
       "      <td>31-40 times</td>\n",
       "      <td>Dial-up</td>\n",
       "      <td>Desktop</td>\n",
       "      <td>Others</td>\n",
       "      <td>Window/windows Mobile</td>\n",
       "      <td>Google chrome</td>\n",
       "      <td>Search Engine</td>\n",
       "      <td>Search Engine</td>\n",
       "      <td>6-10 mins</td>\n",
       "      <td>E-wallets (Paytm, Freecharge etc.)</td>\n",
       "      <td>Sometimes</td>\n",
       "      <td>Lack of trust</td>\n",
       "      <td>Agree (4)</td>\n",
       "      <td>Indifferent (3)</td>\n",
       "      <td>Indifferent (3)</td>\n",
       "      <td>Agree (4)</td>\n",
       "      <td>Agree (4)</td>\n",
       "      <td>Strongly disagree (1)</td>\n",
       "      <td>Dis-agree (2)</td>\n",
       "      <td>Dis-agree (2)</td>\n",
       "      <td>Disagree (2)</td>\n",
       "      <td>Strongly agree (5)</td>\n",
       "      <td>Agree (4)</td>\n",
       "      <td>Agree (4)</td>\n",
       "      <td>indifferent (3)</td>\n",
       "      <td>Strongly disagree (1)</td>\n",
       "      <td>Dis-agree (2)</td>\n",
       "      <td>Dis-agree (2)</td>\n",
       "      <td>Agree (4)</td>\n",
       "      <td>indifferent (3)</td>\n",
       "      <td>Strongly agree (5)</td>\n",
       "      <td>Agree (4)</td>\n",
       "      <td>Strongly agree (5)</td>\n",
       "      <td>indifferent (3)</td>\n",
       "      <td>indifferent (3)</td>\n",
       "      <td>Disagree (2)</td>\n",
       "      <td>indifferent (3)</td>\n",
       "      <td>Agree (4)</td>\n",
       "      <td>Agree (4)</td>\n",
       "      <td>Strongly agree (5)</td>\n",
       "      <td>Agree (4)</td>\n",
       "      <td>Strongly agree (5)</td>\n",
       "      <td>Amazon.in, Paytm.com</td>\n",
       "      <td>Paytm.com</td>\n",
       "      <td>Flipkart.com</td>\n",
       "      <td>Flipkart.com</td>\n",
       "      <td>Snapdeal.com</td>\n",
       "      <td>Snapdeal.com</td>\n",
       "      <td>Paytm.com</td>\n",
       "      <td>Paytm.com</td>\n",
       "      <td>Patym.com</td>\n",
       "      <td>Amazon.in</td>\n",
       "      <td>Amazon.in</td>\n",
       "      <td>Amazon.in</td>\n",
       "      <td>Flipkart.com</td>\n",
       "      <td>Paytm.com</td>\n",
       "      <td>Amazon.in</td>\n",
       "      <td>Amazon.in</td>\n",
       "      <td>Flipkart.com</td>\n",
       "      <td>Flipkart.com</td>\n",
       "      <td>Amazon.in</td>\n",
       "      <td>Paytm.com</td>\n",
       "      <td>Flipkart.com</td>\n",
       "      <td>Amazon.in</td>\n",
       "      <td>Amazon.in</td>\n",
       "      <td>Flipkart.com</td>\n",
       "    </tr>\n",
       "    <tr>\n",
       "      <th>1</th>\n",
       "      <td>Female</td>\n",
       "      <td>21-30 years</td>\n",
       "      <td>Delhi</td>\n",
       "      <td>110030</td>\n",
       "      <td>Above 4 years</td>\n",
       "      <td>41 times and above</td>\n",
       "      <td>Wi-Fi</td>\n",
       "      <td>Smartphone</td>\n",
       "      <td>4.7 inches</td>\n",
       "      <td>IOS/Mac</td>\n",
       "      <td>Google chrome</td>\n",
       "      <td>Search Engine</td>\n",
       "      <td>Via application</td>\n",
       "      <td>more than 15 mins</td>\n",
       "      <td>Credit/Debit cards</td>\n",
       "      <td>Very frequently</td>\n",
       "      <td>Promo code not applicable</td>\n",
       "      <td>Strongly agree (5)</td>\n",
       "      <td>Strongly agree (5)</td>\n",
       "      <td>Strongly agree (5)</td>\n",
       "      <td>Strongly agree (5)</td>\n",
       "      <td>Strongly agree (5)</td>\n",
       "      <td>Strongly agree (5)</td>\n",
       "      <td>Strongly agree (5)</td>\n",
       "      <td>Strongly agree (5)</td>\n",
       "      <td>Strongly agree (5)</td>\n",
       "      <td>Strongly agree (5)</td>\n",
       "      <td>Strongly agree (5)</td>\n",
       "      <td>Strongly agree (5)</td>\n",
       "      <td>Strongly agree (5)</td>\n",
       "      <td>Strongly agree (5)</td>\n",
       "      <td>Strongly agree (5)</td>\n",
       "      <td>Strongly agree (5)</td>\n",
       "      <td>Strongly agree (5)</td>\n",
       "      <td>Strongly agree (5)</td>\n",
       "      <td>Strongly agree (5)</td>\n",
       "      <td>Strongly agree (5)</td>\n",
       "      <td>Strongly agree (5)</td>\n",
       "      <td>Strongly agree (5)</td>\n",
       "      <td>Strongly agree (5)</td>\n",
       "      <td>Strongly agree (5)</td>\n",
       "      <td>indifferent (3)</td>\n",
       "      <td>indifferent (3)</td>\n",
       "      <td>indifferent (3)</td>\n",
       "      <td>Strongly agree (5)</td>\n",
       "      <td>Strongly agree (5)</td>\n",
       "      <td>Strongly agree (5)</td>\n",
       "      <td>Amazon.in, Flipkart.com, Myntra.com, Snapdeal.com</td>\n",
       "      <td>Amazon.in, Flipkart.com, Myntra.com, Snapdeal.com</td>\n",
       "      <td>Amazon.in, Myntra.com</td>\n",
       "      <td>Flipkart.com, Myntra.com</td>\n",
       "      <td>Amazon.in, Flipkart.com, Myntra.com</td>\n",
       "      <td>Amazon.in, Flipkart.com, Myntra.com</td>\n",
       "      <td>Myntra.com</td>\n",
       "      <td>Amazon.in, Flipkart.com, Myntra.com</td>\n",
       "      <td>Amazon.in, Flipkart.com, Myntra.com</td>\n",
       "      <td>Amazon.in, Flipkart.com</td>\n",
       "      <td>Myntra.com</td>\n",
       "      <td>Myntra.com</td>\n",
       "      <td>Myntra.com</td>\n",
       "      <td>Amazon.in, Flipkart.com, Myntra.com</td>\n",
       "      <td>Amazon.in, Flipkart.com</td>\n",
       "      <td>Myntra.com</td>\n",
       "      <td>snapdeal.com</td>\n",
       "      <td>Snapdeal.com</td>\n",
       "      <td>Snapdeal.com</td>\n",
       "      <td>Snapdeal.com</td>\n",
       "      <td>Amazon.in</td>\n",
       "      <td>Myntra.com</td>\n",
       "      <td>Amazon.in, Flipkart.com</td>\n",
       "      <td>Amazon.in, Myntra.com</td>\n",
       "    </tr>\n",
       "    <tr>\n",
       "      <th>2</th>\n",
       "      <td>Female</td>\n",
       "      <td>21-30 years</td>\n",
       "      <td>Greater Noida</td>\n",
       "      <td>201308</td>\n",
       "      <td>3-4 years</td>\n",
       "      <td>41 times and above</td>\n",
       "      <td>Mobile Internet</td>\n",
       "      <td>Smartphone</td>\n",
       "      <td>5.5 inches</td>\n",
       "      <td>Android</td>\n",
       "      <td>Google chrome</td>\n",
       "      <td>Search Engine</td>\n",
       "      <td>Via application</td>\n",
       "      <td>11-15 mins</td>\n",
       "      <td>E-wallets (Paytm, Freecharge etc.)</td>\n",
       "      <td>Sometimes</td>\n",
       "      <td>Promo code not applicable</td>\n",
       "      <td>Strongly agree (5)</td>\n",
       "      <td>Agree (4)</td>\n",
       "      <td>Agree (4)</td>\n",
       "      <td>Agree (4)</td>\n",
       "      <td>Agree (4)</td>\n",
       "      <td>Agree (4)</td>\n",
       "      <td>Strongly agree (5)</td>\n",
       "      <td>Strongly agree (5)</td>\n",
       "      <td>Strongly agree (5)</td>\n",
       "      <td>Strongly agree (5)</td>\n",
       "      <td>Strongly agree (5)</td>\n",
       "      <td>Strongly agree (5)</td>\n",
       "      <td>Strongly agree (5)</td>\n",
       "      <td>Strongly agree (5)</td>\n",
       "      <td>Strongly agree (5)</td>\n",
       "      <td>Strongly agree (5)</td>\n",
       "      <td>Strongly agree (5)</td>\n",
       "      <td>Strongly agree (5)</td>\n",
       "      <td>Strongly agree (5)</td>\n",
       "      <td>Strongly agree (5)</td>\n",
       "      <td>Agree (4)</td>\n",
       "      <td>Strongly agree (5)</td>\n",
       "      <td>Strongly agree (5)</td>\n",
       "      <td>Strongly agree (5)</td>\n",
       "      <td>Agree (4)</td>\n",
       "      <td>Agree (4)</td>\n",
       "      <td>Agree (4)</td>\n",
       "      <td>indifferent (3)</td>\n",
       "      <td>indifferent (3)</td>\n",
       "      <td>Agree (4)</td>\n",
       "      <td>Amazon.in, Paytm.com, Myntra.com</td>\n",
       "      <td>Amazon.in, Paytm.com, Myntra.com</td>\n",
       "      <td>Amazon.in, Paytm.com, Myntra.com</td>\n",
       "      <td>Amazon.in, Myntra.com</td>\n",
       "      <td>Amazon.in, Paytm.com, Myntra.com</td>\n",
       "      <td>Amazon.in, Paytm.com</td>\n",
       "      <td>Amazon.in, Paytm.com, Myntra.com</td>\n",
       "      <td>Amazon.in, Paytm.com, Myntra.com</td>\n",
       "      <td>Patym.com, Myntra.com</td>\n",
       "      <td>Amazon.in</td>\n",
       "      <td>Amazon.in</td>\n",
       "      <td>Amazon.in, Paytm.com, Myntra.com</td>\n",
       "      <td>Amazon.in, Myntra.com</td>\n",
       "      <td>Myntra.com</td>\n",
       "      <td>Myntra.com</td>\n",
       "      <td>Myntra.com</td>\n",
       "      <td>Myntra.com</td>\n",
       "      <td>Myntra.com</td>\n",
       "      <td>Amazon.in</td>\n",
       "      <td>Paytm.com</td>\n",
       "      <td>Paytm.com</td>\n",
       "      <td>Paytm.com</td>\n",
       "      <td>Amazon.in</td>\n",
       "      <td>Amazon.in, Paytm.com, Myntra.com</td>\n",
       "    </tr>\n",
       "    <tr>\n",
       "      <th>3</th>\n",
       "      <td>Male</td>\n",
       "      <td>21-30 years</td>\n",
       "      <td>Karnal</td>\n",
       "      <td>132001</td>\n",
       "      <td>3-4 years</td>\n",
       "      <td>Less than 10 times</td>\n",
       "      <td>Mobile Internet</td>\n",
       "      <td>Smartphone</td>\n",
       "      <td>5.5 inches</td>\n",
       "      <td>IOS/Mac</td>\n",
       "      <td>Safari</td>\n",
       "      <td>Search Engine</td>\n",
       "      <td>Search Engine</td>\n",
       "      <td>6-10 mins</td>\n",
       "      <td>Credit/Debit cards</td>\n",
       "      <td>Never</td>\n",
       "      <td>Better alternative offer</td>\n",
       "      <td>Agree (4)</td>\n",
       "      <td>Agree (4)</td>\n",
       "      <td>Indifferent (3)</td>\n",
       "      <td>Agree (4)</td>\n",
       "      <td>Strongly agree (5)</td>\n",
       "      <td>Agree (4)</td>\n",
       "      <td>Strongly agree (5)</td>\n",
       "      <td>Strongly agree (5)</td>\n",
       "      <td>Agree (4)</td>\n",
       "      <td>Strongly agree (5)</td>\n",
       "      <td>Strongly agree (5)</td>\n",
       "      <td>Agree (4)</td>\n",
       "      <td>Agree (4)</td>\n",
       "      <td>indifferent (3)</td>\n",
       "      <td>indifferent (3)</td>\n",
       "      <td>Agree (4)</td>\n",
       "      <td>indifferent (3)</td>\n",
       "      <td>indifferent (3)</td>\n",
       "      <td>Agree (4)</td>\n",
       "      <td>indifferent (3)</td>\n",
       "      <td>Agree (4)</td>\n",
       "      <td>Agree (4)</td>\n",
       "      <td>Agree (4)</td>\n",
       "      <td>Strongly agree (5)</td>\n",
       "      <td>Agree (4)</td>\n",
       "      <td>Agree (4)</td>\n",
       "      <td>Strongly agree (5)</td>\n",
       "      <td>Agree (4)</td>\n",
       "      <td>indifferent (3)</td>\n",
       "      <td>Agree (4)</td>\n",
       "      <td>Amazon.in, Flipkart.com, Paytm.com, Myntra.com...</td>\n",
       "      <td>Amazon.in, Flipkart.com, Paytm.com, Myntra.com...</td>\n",
       "      <td>Amazon.in, Flipkart.com, Paytm.com, Myntra.com...</td>\n",
       "      <td>Amazon.in, Flipkart.com</td>\n",
       "      <td>Amazon.in, Flipkart.com</td>\n",
       "      <td>Amazon.in, Flipkart.com, Snapdeal.com</td>\n",
       "      <td>Amazon.in, Flipkart.com, Paytm.com</td>\n",
       "      <td>Amazon.in, Flipkart.com, Paytm.com</td>\n",
       "      <td>Amazon.in, Flipkart.com, Myntra.com</td>\n",
       "      <td>Amazon.in, Flipkart.com, Snapdeal.com</td>\n",
       "      <td>Amazon.in, Flipkart.com, Myntra.com</td>\n",
       "      <td>Amazon.in, Flipkart.com, Snapdeal.com</td>\n",
       "      <td>Amazon.in, Flipkart.com, Snapdeal.com</td>\n",
       "      <td>Amazon.in, Flipkart.com, Myntra.com, Snapdeal</td>\n",
       "      <td>Snapdeal.com</td>\n",
       "      <td>Myntra.com, Snapdeal.com</td>\n",
       "      <td>Myntra.com</td>\n",
       "      <td>Paytm.com</td>\n",
       "      <td>Paytm.com</td>\n",
       "      <td>Paytm.com</td>\n",
       "      <td>Amazon.in, Flipkart.com</td>\n",
       "      <td>Amazon.in, Flipkart.com</td>\n",
       "      <td>Amazon.in, Flipkart.com, Paytm.com</td>\n",
       "      <td>Amazon.in, Flipkart.com</td>\n",
       "    </tr>\n",
       "    <tr>\n",
       "      <th>4</th>\n",
       "      <td>Female</td>\n",
       "      <td>21-30 years</td>\n",
       "      <td>Bangalore</td>\n",
       "      <td>530068</td>\n",
       "      <td>2-3 years</td>\n",
       "      <td>11-20 times</td>\n",
       "      <td>Wi-Fi</td>\n",
       "      <td>Smartphone</td>\n",
       "      <td>4.7 inches</td>\n",
       "      <td>IOS/Mac</td>\n",
       "      <td>Safari</td>\n",
       "      <td>Content Marketing</td>\n",
       "      <td>Via application</td>\n",
       "      <td>more than 15 mins</td>\n",
       "      <td>Credit/Debit cards</td>\n",
       "      <td>Frequently</td>\n",
       "      <td>Better alternative offer</td>\n",
       "      <td>Strongly agree (5)</td>\n",
       "      <td>Indifferent (3)</td>\n",
       "      <td>Indifferent (3)</td>\n",
       "      <td>Agree (4)</td>\n",
       "      <td>Agree (4)</td>\n",
       "      <td>Strongly agree (5)</td>\n",
       "      <td>Strongly agree (5)</td>\n",
       "      <td>Strongly agree (5)</td>\n",
       "      <td>Agree (4)</td>\n",
       "      <td>Strongly agree (5)</td>\n",
       "      <td>Agree (4)</td>\n",
       "      <td>Strongly agree (5)</td>\n",
       "      <td>Strongly agree (5)</td>\n",
       "      <td>Strongly agree (5)</td>\n",
       "      <td>Strongly agree (5)</td>\n",
       "      <td>Strongly agree (5)</td>\n",
       "      <td>Dis-agree (2)</td>\n",
       "      <td>Agree (4)</td>\n",
       "      <td>Strongly agree (5)</td>\n",
       "      <td>Strongly agree (5)</td>\n",
       "      <td>Strongly agree (5)</td>\n",
       "      <td>Agree (4)</td>\n",
       "      <td>Agree (4)</td>\n",
       "      <td>Strongly agree (5)</td>\n",
       "      <td>Agree (4)</td>\n",
       "      <td>indifferent (3)</td>\n",
       "      <td>Strongly disagree (1)</td>\n",
       "      <td>Strongly agree (5)</td>\n",
       "      <td>Strongly disagree (1)</td>\n",
       "      <td>Strongly agree (5)</td>\n",
       "      <td>Amazon.in, Flipkart.com, Paytm.com, Myntra.com...</td>\n",
       "      <td>Amazon.in, Flipkart.com, Paytm.com, Myntra.com...</td>\n",
       "      <td>Myntra.com</td>\n",
       "      <td>Myntra.com</td>\n",
       "      <td>Amazon.in, Flipkart.com, Paytm.com, Myntra.com...</td>\n",
       "      <td>Amazon.in</td>\n",
       "      <td>Amazon.in, Paytm.com, Myntra.com</td>\n",
       "      <td>Amazon.in, Flipkart.com, Paytm.com, Myntra.com...</td>\n",
       "      <td>Amazon.in, Flipkart.com, Patym.com, Myntra.com...</td>\n",
       "      <td>Amazon.in</td>\n",
       "      <td>Amazon.in, Paytm.com</td>\n",
       "      <td>Paytm.com</td>\n",
       "      <td>Amazon.in, Myntra.com</td>\n",
       "      <td>Amazon.in, Myntra.com</td>\n",
       "      <td>Flipkart.com, Paytm.com</td>\n",
       "      <td>Paytm.com</td>\n",
       "      <td>Paytm.com</td>\n",
       "      <td>Paytm.com</td>\n",
       "      <td>Snapdeal.com</td>\n",
       "      <td>Paytm.com</td>\n",
       "      <td>Amazon.in</td>\n",
       "      <td>Snapdeal.com</td>\n",
       "      <td>Paytm.com</td>\n",
       "      <td>Amazon.in, Myntra.com</td>\n",
       "    </tr>\n",
       "  </tbody>\n",
       "</table>\n",
       "</div>"
      ],
      "text/plain": [
       "  1Gender of respondent 2 How old are you?   \\\n",
       "0                  Male         31-40 years   \n",
       "1                Female         21-30 years   \n",
       "2                Female         21-30 years   \n",
       "3                  Male         21-30 years   \n",
       "4                Female         21-30 years   \n",
       "\n",
       "  3 Which city do you shop online from?  \\\n",
       "0                                 Delhi   \n",
       "1                                 Delhi   \n",
       "2                         Greater Noida   \n",
       "3                               Karnal    \n",
       "4                            Bangalore    \n",
       "\n",
       "   4 What is the Pin Code of where you shop online from?  \\\n",
       "0                                             110009       \n",
       "1                                             110030       \n",
       "2                                             201308       \n",
       "3                                             132001       \n",
       "4                                             530068       \n",
       "\n",
       "  5 Since How Long You are Shopping Online ?  \\\n",
       "0                              Above 4 years   \n",
       "1                              Above 4 years   \n",
       "2                                  3-4 years   \n",
       "3                                  3-4 years   \n",
       "4                                  2-3 years   \n",
       "\n",
       "  6 How many times you have made an online purchase in the past 1 year?  \\\n",
       "0                                        31-40 times                      \n",
       "1                                 41 times and above                      \n",
       "2                                 41 times and above                      \n",
       "3                                 Less than 10 times                      \n",
       "4                                        11-20 times                      \n",
       "\n",
       "  7 How do you access the internet while shopping on-line?  \\\n",
       "0                                            Dial-up         \n",
       "1                                              Wi-Fi         \n",
       "2                                    Mobile Internet         \n",
       "3                                    Mobile Internet         \n",
       "4                                              Wi-Fi         \n",
       "\n",
       "  8 Which device do you use to access the online shopping?  \\\n",
       "0                                            Desktop         \n",
       "1                                         Smartphone         \n",
       "2                                         Smartphone         \n",
       "3                                         Smartphone         \n",
       "4                                         Smartphone         \n",
       "\n",
       "  9 What is the screen size of your mobile device?\\t\\t\\t\\t\\t\\t                                          \\\n",
       "0                                             Others                                                     \n",
       "1                                         4.7 inches                                                     \n",
       "2                                         5.5 inches                                                     \n",
       "3                                         5.5 inches                                                     \n",
       "4                                         4.7 inches                                                     \n",
       "\n",
       "  10 What is the operating system (OS) of your device?\\t\\t\\t\\t                                            \\\n",
       "0                              Window/windows Mobile                                                       \n",
       "1                                            IOS/Mac                                                       \n",
       "2                                            Android                                                       \n",
       "3                                            IOS/Mac                                                       \n",
       "4                                            IOS/Mac                                                       \n",
       "\n",
       "  11 What browser do you run on your device to access the website?\\t\\t\\t                                                            \\\n",
       "0                                      Google chrome                                                                                 \n",
       "1                                      Google chrome                                                                                 \n",
       "2                                      Google chrome                                                                                 \n",
       "3                                             Safari                                                                                 \n",
       "4                                             Safari                                                                                 \n",
       "\n",
       "  12 Which channel did you follow to arrive at your favorite online store for the first time?                                                                     \\\n",
       "0                                      Search Engine                                                                                                               \n",
       "1                                      Search Engine                                                                                                               \n",
       "2                                      Search Engine                                                                                                               \n",
       "3                                      Search Engine                                                                                                               \n",
       "4                                  Content Marketing                                                                                                               \n",
       "\n",
       "  13 After first visit, how do you reach the online retail store?\\t\\t\\t\\t                                                     \\\n",
       "0                                      Search Engine                                                                           \n",
       "1                                    Via application                                                                           \n",
       "2                                    Via application                                                                           \n",
       "3                                      Search Engine                                                                           \n",
       "4                                    Via application                                                                           \n",
       "\n",
       "  14 How much time do you explore the e- retail store before making a purchase decision?                                                                     \\\n",
       "0                                          6-10 mins                                                                                                          \n",
       "1                                  more than 15 mins                                                                                                          \n",
       "2                                         11-15 mins                                                                                                          \n",
       "3                                          6-10 mins                                                                                                          \n",
       "4                                  more than 15 mins                                                                                                          \n",
       "\n",
       "  15 What is your preferred payment Option?\\t\\t\\t\\t\\t                                                                                                                                 \\\n",
       "0                 E-wallets (Paytm, Freecharge etc.)                                                                                                                                   \n",
       "1                                 Credit/Debit cards                                                                                                                                   \n",
       "2                 E-wallets (Paytm, Freecharge etc.)                                                                                                                                   \n",
       "3                                 Credit/Debit cards                                                                                                                                   \n",
       "4                                 Credit/Debit cards                                                                                                                                   \n",
       "\n",
       "  16 How frequently do you abandon (selecting an items and leaving without making payment) your shopping cart?\\t\\t\\t\\t\\t\\t\\t                                                     \\\n",
       "0                                          Sometimes                                                                                                                              \n",
       "1                                    Very frequently                                                                                                                              \n",
       "2                                          Sometimes                                                                                                                              \n",
       "3                                              Never                                                                                                                              \n",
       "4                                         Frequently                                                                                                                              \n",
       "\n",
       "  17 Why did you abandon the Bag, Shopping Cart?\\t\\t\\t\\t\\t                                                                                                                                                         \\\n",
       "0                                      Lack of trust                                                                                                                                                                    \n",
       "1                          Promo code not applicable                                                                                                                                                                    \n",
       "2                          Promo code not applicable                                                                                                                                                                    \n",
       "3                           Better alternative offer                                                                                                                                                                    \n",
       "4                           Better alternative offer                                                                                                                                                                    \n",
       "\n",
       "  18 The content on the website must be easy to read and understand  \\\n",
       "0                                          Agree (4)                  \n",
       "1                                 Strongly agree (5)                  \n",
       "2                                 Strongly agree (5)                  \n",
       "3                                          Agree (4)                  \n",
       "4                                 Strongly agree (5)                  \n",
       "\n",
       "  19 Information on similar product to the one highlighted  is important for product comparison  \\\n",
       "0                                    Indifferent (3)                                              \n",
       "1                                 Strongly agree (5)                                              \n",
       "2                                          Agree (4)                                              \n",
       "3                                          Agree (4)                                              \n",
       "4                                    Indifferent (3)                                              \n",
       "\n",
       "  20 Complete information on listed seller and product being offered is important for purchase decision.  \\\n",
       "0                                    Indifferent (3)                                                       \n",
       "1                                 Strongly agree (5)                                                       \n",
       "2                                          Agree (4)                                                       \n",
       "3                                    Indifferent (3)                                                       \n",
       "4                                    Indifferent (3)                                                       \n",
       "\n",
       "  21 All relevant information on listed products must be stated clearly  \\\n",
       "0                                          Agree (4)                      \n",
       "1                                 Strongly agree (5)                      \n",
       "2                                          Agree (4)                      \n",
       "3                                          Agree (4)                      \n",
       "4                                          Agree (4)                      \n",
       "\n",
       "  22 Ease of navigation in website 23 Loading and processing speed  \\\n",
       "0                        Agree (4)           Strongly disagree (1)   \n",
       "1               Strongly agree (5)              Strongly agree (5)   \n",
       "2                        Agree (4)                       Agree (4)   \n",
       "3               Strongly agree (5)                       Agree (4)   \n",
       "4                        Agree (4)              Strongly agree (5)   \n",
       "\n",
       "  24 User friendly Interface of the website 25 Convenient Payment methods  \\\n",
       "0                             Dis-agree (2)                 Dis-agree (2)   \n",
       "1                        Strongly agree (5)            Strongly agree (5)   \n",
       "2                        Strongly agree (5)            Strongly agree (5)   \n",
       "3                        Strongly agree (5)            Strongly agree (5)   \n",
       "4                        Strongly agree (5)            Strongly agree (5)   \n",
       "\n",
       "  26 Trust that the online retail store will fulfill its part of the transaction at the stipulated time  \\\n",
       "0                                       Disagree (2)                                                      \n",
       "1                                 Strongly agree (5)                                                      \n",
       "2                                 Strongly agree (5)                                                      \n",
       "3                                          Agree (4)                                                      \n",
       "4                                          Agree (4)                                                      \n",
       "\n",
       "  27 Empathy (readiness to assist with queries) towards the customers  \\\n",
       "0                                 Strongly agree (5)                    \n",
       "1                                 Strongly agree (5)                    \n",
       "2                                 Strongly agree (5)                    \n",
       "3                                 Strongly agree (5)                    \n",
       "4                                 Strongly agree (5)                    \n",
       "\n",
       "  28 Being able to guarantee the privacy of the customer  \\\n",
       "0                                          Agree (4)       \n",
       "1                                 Strongly agree (5)       \n",
       "2                                 Strongly agree (5)       \n",
       "3                                 Strongly agree (5)       \n",
       "4                                          Agree (4)       \n",
       "\n",
       "  29 Responsiveness, availability of several communication channels (email, online rep, twitter, phone etc.)  \\\n",
       "0                                          Agree (4)                                                           \n",
       "1                                 Strongly agree (5)                                                           \n",
       "2                                 Strongly agree (5)                                                           \n",
       "3                                          Agree (4)                                                           \n",
       "4                                 Strongly agree (5)                                                           \n",
       "\n",
       "  30 Online shopping gives monetary benefit and discounts  \\\n",
       "0                                    indifferent (3)        \n",
       "1                                 Strongly agree (5)        \n",
       "2                                 Strongly agree (5)        \n",
       "3                                          Agree (4)        \n",
       "4                                 Strongly agree (5)        \n",
       "\n",
       "  31 Enjoyment is derived from shopping online  \\\n",
       "0                        Strongly disagree (1)   \n",
       "1                           Strongly agree (5)   \n",
       "2                           Strongly agree (5)   \n",
       "3                              indifferent (3)   \n",
       "4                           Strongly agree (5)   \n",
       "\n",
       "  32 Shopping online is convenient and flexible  \\\n",
       "0                                 Dis-agree (2)   \n",
       "1                            Strongly agree (5)   \n",
       "2                            Strongly agree (5)   \n",
       "3                               indifferent (3)   \n",
       "4                            Strongly agree (5)   \n",
       "\n",
       "  33 Return and replacement policy of the e-tailer is important for purchase decision  \\\n",
       "0                                      Dis-agree (2)                                    \n",
       "1                                 Strongly agree (5)                                    \n",
       "2                                 Strongly agree (5)                                    \n",
       "3                                          Agree (4)                                    \n",
       "4                                 Strongly agree (5)                                    \n",
       "\n",
       "  34 Gaining access to loyalty programs is a benefit of shopping online  \\\n",
       "0                                          Agree (4)                      \n",
       "1                                 Strongly agree (5)                      \n",
       "2                                 Strongly agree (5)                      \n",
       "3                                    indifferent (3)                      \n",
       "4                                      Dis-agree (2)                      \n",
       "\n",
       "  35 Displaying quality Information on the website improves satisfaction of customers  \\\n",
       "0                                    indifferent (3)                                    \n",
       "1                                 Strongly agree (5)                                    \n",
       "2                                 Strongly agree (5)                                    \n",
       "3                                    indifferent (3)                                    \n",
       "4                                          Agree (4)                                    \n",
       "\n",
       "  36 User derive satisfaction while shopping on a good quality website or application  \\\n",
       "0                                 Strongly agree (5)                                    \n",
       "1                                 Strongly agree (5)                                    \n",
       "2                                 Strongly agree (5)                                    \n",
       "3                                          Agree (4)                                    \n",
       "4                                 Strongly agree (5)                                    \n",
       "\n",
       "  37 Net Benefit derived from shopping online can lead to users satisfaction  \\\n",
       "0                                          Agree (4)                           \n",
       "1                                 Strongly agree (5)                           \n",
       "2                                 Strongly agree (5)                           \n",
       "3                                    indifferent (3)                           \n",
       "4                                 Strongly agree (5)                           \n",
       "\n",
       "  38 User satisfaction cannot exist without trust  \\\n",
       "0                              Strongly agree (5)   \n",
       "1                              Strongly agree (5)   \n",
       "2                                       Agree (4)   \n",
       "3                                       Agree (4)   \n",
       "4                              Strongly agree (5)   \n",
       "\n",
       "  39 Offering a wide variety of listed product in several category  \\\n",
       "0                                    indifferent (3)                 \n",
       "1                                 Strongly agree (5)                 \n",
       "2                                 Strongly agree (5)                 \n",
       "3                                          Agree (4)                 \n",
       "4                                          Agree (4)                 \n",
       "\n",
       "  40 Provision of complete and relevant product information  \\\n",
       "0                                    indifferent (3)          \n",
       "1                                 Strongly agree (5)          \n",
       "2                                 Strongly agree (5)          \n",
       "3                                          Agree (4)          \n",
       "4                                          Agree (4)          \n",
       "\n",
       "  41 Monetary savings 42 The Convenience of patronizing the online retailer  \\\n",
       "0        Disagree (2)                                    indifferent (3)      \n",
       "1  Strongly agree (5)                                    indifferent (3)      \n",
       "2  Strongly agree (5)                                          Agree (4)      \n",
       "3  Strongly agree (5)                                          Agree (4)      \n",
       "4  Strongly agree (5)                                          Agree (4)      \n",
       "\n",
       "  43 Shopping on the website gives you the sense of adventure  \\\n",
       "0                                          Agree (4)            \n",
       "1                                    indifferent (3)            \n",
       "2                                          Agree (4)            \n",
       "3                                          Agree (4)            \n",
       "4                                    indifferent (3)            \n",
       "\n",
       "  44 Shopping on your preferred e-tailer enhances your social status  \\\n",
       "0                                          Agree (4)                   \n",
       "1                                    indifferent (3)                   \n",
       "2                                          Agree (4)                   \n",
       "3                                 Strongly agree (5)                   \n",
       "4                              Strongly disagree (1)                   \n",
       "\n",
       "  45 You feel gratification shopping on your favorite e-tailer  \\\n",
       "0                                 Strongly agree (5)             \n",
       "1                                 Strongly agree (5)             \n",
       "2                                    indifferent (3)             \n",
       "3                                          Agree (4)             \n",
       "4                                 Strongly agree (5)             \n",
       "\n",
       "  46 Shopping on the website helps you fulfill certain roles  \\\n",
       "0                                          Agree (4)           \n",
       "1                                 Strongly agree (5)           \n",
       "2                                    indifferent (3)           \n",
       "3                                    indifferent (3)           \n",
       "4                              Strongly disagree (1)           \n",
       "\n",
       "  47 Getting value for money spent  \\\n",
       "0               Strongly agree (5)   \n",
       "1               Strongly agree (5)   \n",
       "2                        Agree (4)   \n",
       "3                        Agree (4)   \n",
       "4               Strongly agree (5)   \n",
       "\n",
       "  From the following, tick any (or all) of the online retailers you have shopped from;                                                                             \\\n",
       "0                               Amazon.in, Paytm.com                                                                                                                \n",
       "1  Amazon.in, Flipkart.com, Myntra.com, Snapdeal.com                                                                                                                \n",
       "2                   Amazon.in, Paytm.com, Myntra.com                                                                                                                \n",
       "3  Amazon.in, Flipkart.com, Paytm.com, Myntra.com...                                                                                                                \n",
       "4  Amazon.in, Flipkart.com, Paytm.com, Myntra.com...                                                                                                                \n",
       "\n",
       "                  Easy to use website or application  \\\n",
       "0                                          Paytm.com   \n",
       "1  Amazon.in, Flipkart.com, Myntra.com, Snapdeal.com   \n",
       "2                   Amazon.in, Paytm.com, Myntra.com   \n",
       "3  Amazon.in, Flipkart.com, Paytm.com, Myntra.com...   \n",
       "4  Amazon.in, Flipkart.com, Paytm.com, Myntra.com...   \n",
       "\n",
       "                    Visual appealing web-page layout  \\\n",
       "0                                       Flipkart.com   \n",
       "1                              Amazon.in, Myntra.com   \n",
       "2                   Amazon.in, Paytm.com, Myntra.com   \n",
       "3  Amazon.in, Flipkart.com, Paytm.com, Myntra.com...   \n",
       "4                                         Myntra.com   \n",
       "\n",
       "  Wild variety of product on offer  \\\n",
       "0                     Flipkart.com   \n",
       "1         Flipkart.com, Myntra.com   \n",
       "2            Amazon.in, Myntra.com   \n",
       "3          Amazon.in, Flipkart.com   \n",
       "4                       Myntra.com   \n",
       "\n",
       "  Complete, relevant description information of products  \\\n",
       "0                                       Snapdeal.com       \n",
       "1                Amazon.in, Flipkart.com, Myntra.com       \n",
       "2                   Amazon.in, Paytm.com, Myntra.com       \n",
       "3                            Amazon.in, Flipkart.com       \n",
       "4  Amazon.in, Flipkart.com, Paytm.com, Myntra.com...       \n",
       "\n",
       "  Fast loading website speed of website and application  \\\n",
       "0                                       Snapdeal.com      \n",
       "1                Amazon.in, Flipkart.com, Myntra.com      \n",
       "2                               Amazon.in, Paytm.com      \n",
       "3              Amazon.in, Flipkart.com, Snapdeal.com      \n",
       "4                                          Amazon.in      \n",
       "\n",
       "  Reliability of the website or application  \\\n",
       "0                                 Paytm.com   \n",
       "1                                Myntra.com   \n",
       "2          Amazon.in, Paytm.com, Myntra.com   \n",
       "3        Amazon.in, Flipkart.com, Paytm.com   \n",
       "4          Amazon.in, Paytm.com, Myntra.com   \n",
       "\n",
       "                      Quickness to complete purchase  \\\n",
       "0                                          Paytm.com   \n",
       "1                Amazon.in, Flipkart.com, Myntra.com   \n",
       "2                   Amazon.in, Paytm.com, Myntra.com   \n",
       "3                 Amazon.in, Flipkart.com, Paytm.com   \n",
       "4  Amazon.in, Flipkart.com, Paytm.com, Myntra.com...   \n",
       "\n",
       "             Availability of several payment options  \\\n",
       "0                                          Patym.com   \n",
       "1                Amazon.in, Flipkart.com, Myntra.com   \n",
       "2                              Patym.com, Myntra.com   \n",
       "3                Amazon.in, Flipkart.com, Myntra.com   \n",
       "4  Amazon.in, Flipkart.com, Patym.com, Myntra.com...   \n",
       "\n",
       "                  Speedy order delivery     Privacy of customers information  \\\n",
       "0                              Amazon.in                            Amazon.in   \n",
       "1                Amazon.in, Flipkart.com                           Myntra.com   \n",
       "2                              Amazon.in                            Amazon.in   \n",
       "3  Amazon.in, Flipkart.com, Snapdeal.com  Amazon.in, Flipkart.com, Myntra.com   \n",
       "4                              Amazon.in                 Amazon.in, Paytm.com   \n",
       "\n",
       "  Security of customer financial information  \\\n",
       "0                                  Amazon.in   \n",
       "1                                 Myntra.com   \n",
       "2           Amazon.in, Paytm.com, Myntra.com   \n",
       "3      Amazon.in, Flipkart.com, Snapdeal.com   \n",
       "4                                  Paytm.com   \n",
       "\n",
       "               Perceived Trustworthiness  \\\n",
       "0                           Flipkart.com   \n",
       "1                             Myntra.com   \n",
       "2                  Amazon.in, Myntra.com   \n",
       "3  Amazon.in, Flipkart.com, Snapdeal.com   \n",
       "4                  Amazon.in, Myntra.com   \n",
       "\n",
       "  Presence of online assistance through multi-channel  \\\n",
       "0                                          Paytm.com    \n",
       "1                Amazon.in, Flipkart.com, Myntra.com    \n",
       "2                                         Myntra.com    \n",
       "3      Amazon.in, Flipkart.com, Myntra.com, Snapdeal    \n",
       "4                              Amazon.in, Myntra.com    \n",
       "\n",
       "  Longer time to get logged in (promotion, sales period)  \\\n",
       "0                                          Amazon.in       \n",
       "1                            Amazon.in, Flipkart.com       \n",
       "2                                         Myntra.com       \n",
       "3                                       Snapdeal.com       \n",
       "4                            Flipkart.com, Paytm.com       \n",
       "\n",
       "  Longer time in displaying graphics and photos (promotion, sales period)  \\\n",
       "0                                          Amazon.in                        \n",
       "1                                         Myntra.com                        \n",
       "2                                         Myntra.com                        \n",
       "3                           Myntra.com, Snapdeal.com                        \n",
       "4                                          Paytm.com                        \n",
       "\n",
       "  Late declaration of price (promotion, sales period)  \\\n",
       "0                                       Flipkart.com    \n",
       "1                                       snapdeal.com    \n",
       "2                                         Myntra.com    \n",
       "3                                         Myntra.com    \n",
       "4                                          Paytm.com    \n",
       "\n",
       "  Longer page loading time (promotion, sales period)  \\\n",
       "0                                       Flipkart.com   \n",
       "1                                       Snapdeal.com   \n",
       "2                                         Myntra.com   \n",
       "3                                          Paytm.com   \n",
       "4                                          Paytm.com   \n",
       "\n",
       "  Limited mode of payment on most products (promotion, sales period)  \\\n",
       "0                                          Amazon.in                   \n",
       "1                                       Snapdeal.com                   \n",
       "2                                          Amazon.in                   \n",
       "3                                          Paytm.com                   \n",
       "4                                       Snapdeal.com                   \n",
       "\n",
       "  Longer delivery period Change in website/Application design  \\\n",
       "0              Paytm.com                         Flipkart.com   \n",
       "1           Snapdeal.com                            Amazon.in   \n",
       "2              Paytm.com                            Paytm.com   \n",
       "3              Paytm.com              Amazon.in, Flipkart.com   \n",
       "4              Paytm.com                            Amazon.in   \n",
       "\n",
       "  Frequent disruption when moving from one page to another  \\\n",
       "0                                          Amazon.in         \n",
       "1                                         Myntra.com         \n",
       "2                                          Paytm.com         \n",
       "3                            Amazon.in, Flipkart.com         \n",
       "4                                       Snapdeal.com         \n",
       "\n",
       "    Website is as efficient as before  \\\n",
       "0                           Amazon.in   \n",
       "1             Amazon.in, Flipkart.com   \n",
       "2                           Amazon.in   \n",
       "3  Amazon.in, Flipkart.com, Paytm.com   \n",
       "4                           Paytm.com   \n",
       "\n",
       "  Which of the Indian online retailer would you recommend to a friend?  \n",
       "0                                       Flipkart.com                    \n",
       "1                              Amazon.in, Myntra.com                    \n",
       "2                   Amazon.in, Paytm.com, Myntra.com                    \n",
       "3                            Amazon.in, Flipkart.com                    \n",
       "4                              Amazon.in, Myntra.com                    "
      ]
     },
     "execution_count": 5,
     "metadata": {},
     "output_type": "execute_result"
    }
   ],
   "source": [
    "data.head()"
   ]
  },
  {
   "cell_type": "code",
   "execution_count": 6,
   "metadata": {},
   "outputs": [
    {
     "data": {
      "text/plain": [
       "Index(['1Gender of respondent', '2 How old are you? ',\n",
       "       '3 Which city do you shop online from?',\n",
       "       '4 What is the Pin Code of where you shop online from?',\n",
       "       '5 Since How Long You are Shopping Online ?',\n",
       "       '6 How many times you have made an online purchase in the past 1 year?',\n",
       "       '7 How do you access the internet while shopping on-line?',\n",
       "       '8 Which device do you use to access the online shopping?',\n",
       "       '9 What is the screen size of your mobile device?\\t\\t\\t\\t\\t\\t                                        ',\n",
       "       '10 What is the operating system (OS) of your device?\\t\\t\\t\\t                                          ',\n",
       "       '11 What browser do you run on your device to access the website?\\t\\t\\t                                                          ',\n",
       "       '12 Which channel did you follow to arrive at your favorite online store for the first time?                                                                   ',\n",
       "       '13 After first visit, how do you reach the online retail store?\\t\\t\\t\\t                                                   ',\n",
       "       '14 How much time do you explore the e- retail store before making a purchase decision?                                                                   ',\n",
       "       '15 What is your preferred payment Option?\\t\\t\\t\\t\\t                                                                                                                               ',\n",
       "       '16 How frequently do you abandon (selecting an items and leaving without making payment) your shopping cart?\\t\\t\\t\\t\\t\\t\\t                                                   ',\n",
       "       '17 Why did you abandon the Bag, Shopping Cart?\\t\\t\\t\\t\\t                                                                                                                                                       ',\n",
       "       '18 The content on the website must be easy to read and understand',\n",
       "       '19 Information on similar product to the one highlighted  is important for product comparison',\n",
       "       '20 Complete information on listed seller and product being offered is important for purchase decision.',\n",
       "       '21 All relevant information on listed products must be stated clearly',\n",
       "       '22 Ease of navigation in website', '23 Loading and processing speed',\n",
       "       '24 User friendly Interface of the website',\n",
       "       '25 Convenient Payment methods',\n",
       "       '26 Trust that the online retail store will fulfill its part of the transaction at the stipulated time',\n",
       "       '27 Empathy (readiness to assist with queries) towards the customers',\n",
       "       '28 Being able to guarantee the privacy of the customer',\n",
       "       '29 Responsiveness, availability of several communication channels (email, online rep, twitter, phone etc.)',\n",
       "       '30 Online shopping gives monetary benefit and discounts',\n",
       "       '31 Enjoyment is derived from shopping online',\n",
       "       '32 Shopping online is convenient and flexible',\n",
       "       '33 Return and replacement policy of the e-tailer is important for purchase decision',\n",
       "       '34 Gaining access to loyalty programs is a benefit of shopping online',\n",
       "       '35 Displaying quality Information on the website improves satisfaction of customers',\n",
       "       '36 User derive satisfaction while shopping on a good quality website or application',\n",
       "       '37 Net Benefit derived from shopping online can lead to users satisfaction',\n",
       "       '38 User satisfaction cannot exist without trust',\n",
       "       '39 Offering a wide variety of listed product in several category',\n",
       "       '40 Provision of complete and relevant product information',\n",
       "       '41 Monetary savings',\n",
       "       '42 The Convenience of patronizing the online retailer',\n",
       "       '43 Shopping on the website gives you the sense of adventure',\n",
       "       '44 Shopping on your preferred e-tailer enhances your social status',\n",
       "       '45 You feel gratification shopping on your favorite e-tailer',\n",
       "       '46 Shopping on the website helps you fulfill certain roles',\n",
       "       '47 Getting value for money spent',\n",
       "       'From the following, tick any (or all) of the online retailers you have shopped from;                                                                           ',\n",
       "       'Easy to use website or application',\n",
       "       'Visual appealing web-page layout', 'Wild variety of product on offer',\n",
       "       'Complete, relevant description information of products',\n",
       "       'Fast loading website speed of website and application',\n",
       "       'Reliability of the website or application',\n",
       "       'Quickness to complete purchase',\n",
       "       'Availability of several payment options', 'Speedy order delivery ',\n",
       "       'Privacy of customers information',\n",
       "       'Security of customer financial information',\n",
       "       'Perceived Trustworthiness',\n",
       "       'Presence of online assistance through multi-channel',\n",
       "       'Longer time to get logged in (promotion, sales period)',\n",
       "       'Longer time in displaying graphics and photos (promotion, sales period)',\n",
       "       'Late declaration of price (promotion, sales period)',\n",
       "       'Longer page loading time (promotion, sales period)',\n",
       "       'Limited mode of payment on most products (promotion, sales period)',\n",
       "       'Longer delivery period', 'Change in website/Application design',\n",
       "       'Frequent disruption when moving from one page to another',\n",
       "       'Website is as efficient as before',\n",
       "       'Which of the Indian online retailer would you recommend to a friend?'],\n",
       "      dtype='object')"
      ]
     },
     "execution_count": 6,
     "metadata": {},
     "output_type": "execute_result"
    }
   ],
   "source": [
    "data.columns"
   ]
  },
  {
   "cell_type": "code",
   "execution_count": 7,
   "metadata": {},
   "outputs": [
    {
     "data": {
      "text/plain": [
       "Index(['Gender of respondent', 'How old are you?',\n",
       "       'Which city do you shop online from?',\n",
       "       'What is the Pin Code of where you shop online from?',\n",
       "       'Since How Long You are Shopping Online ?',\n",
       "       'How many times you have made an online purchase in the past  year?',\n",
       "       'How do you access the internet while shopping on-line?',\n",
       "       'Which device do you use to access the online shopping?',\n",
       "       'What is the screen size of your mobile device?',\n",
       "       'What is the operating system (OS) of your device?',\n",
       "       'What browser do you run on your device to access the website?',\n",
       "       'Which channel did you follow to arrive at your favorite online store for the first time?',\n",
       "       'After first visit, how do you reach the online retail store?',\n",
       "       'How much time do you explore the e- retail store before making a purchase decision?',\n",
       "       'What is your preferred payment Option?',\n",
       "       'How frequently do you abandon (selecting an items and leaving without making payment) your shopping cart?',\n",
       "       'Why did you abandon the Bag, Shopping Cart?',\n",
       "       'The content on the website must be easy to read and understand',\n",
       "       'Information on similar product to the one highlighted  is important for product comparison',\n",
       "       'Complete information on listed seller and product being offered is important for purchase decision.',\n",
       "       'All relevant information on listed products must be stated clearly',\n",
       "       'Ease of navigation in website', 'Loading and processing speed',\n",
       "       'User friendly Interface of the website', 'Convenient Payment methods',\n",
       "       'Trust that the online retail store will fulfill its part of the transaction at the stipulated time',\n",
       "       'Empathy (readiness to assist with queries) towards the customers',\n",
       "       'Being able to guarantee the privacy of the customer',\n",
       "       'Responsiveness, availability of several communication channels (email, online rep, twitter, phone etc.)',\n",
       "       'Online shopping gives monetary benefit and discounts',\n",
       "       'Enjoyment is derived from shopping online',\n",
       "       'Shopping online is convenient and flexible',\n",
       "       'Return and replacement policy of the e-tailer is important for purchase decision',\n",
       "       'Gaining access to loyalty programs is a benefit of shopping online',\n",
       "       'Displaying quality Information on the website improves satisfaction of customers',\n",
       "       'User derive satisfaction while shopping on a good quality website or application',\n",
       "       'Net Benefit derived from shopping online can lead to users satisfaction',\n",
       "       'User satisfaction cannot exist without trust',\n",
       "       'Offering a wide variety of listed product in several category',\n",
       "       'Provision of complete and relevant product information',\n",
       "       'Monetary savings',\n",
       "       'The Convenience of patronizing the online retailer',\n",
       "       'Shopping on the website gives you the sense of adventure',\n",
       "       'Shopping on your preferred e-tailer enhances your social status',\n",
       "       'You feel gratification shopping on your favorite e-tailer',\n",
       "       'Shopping on the website helps you fulfill certain roles',\n",
       "       'Getting value for money spent',\n",
       "       'From the following, tick any (or all) of the online retailers you have shopped from;',\n",
       "       'Easy to use website or application',\n",
       "       'Visual appealing web-page layout', 'Wild variety of product on offer',\n",
       "       'Complete, relevant description information of products',\n",
       "       'Fast loading website speed of website and application',\n",
       "       'Reliability of the website or application',\n",
       "       'Quickness to complete purchase',\n",
       "       'Availability of several payment options', 'Speedy order delivery',\n",
       "       'Privacy of customers information',\n",
       "       'Security of customer financial information',\n",
       "       'Perceived Trustworthiness',\n",
       "       'Presence of online assistance through multi-channel',\n",
       "       'Longer time to get logged in (promotion, sales period)',\n",
       "       'Longer time in displaying graphics and photos (promotion, sales period)',\n",
       "       'Late declaration of price (promotion, sales period)',\n",
       "       'Longer page loading time (promotion, sales period)',\n",
       "       'Limited mode of payment on most products (promotion, sales period)',\n",
       "       'Longer delivery period', 'Change in website/Application design',\n",
       "       'Frequent disruption when moving from one page to another',\n",
       "       'Website is as efficient as before',\n",
       "       'Which of the Indian online retailer would you recommend to a friend?'],\n",
       "      dtype='object')"
      ]
     },
     "execution_count": 7,
     "metadata": {},
     "output_type": "execute_result"
    }
   ],
   "source": [
    "#Remove the unwanted digits,spaces,\\t from column names\n",
    "data.columns=data.columns.str.replace('\\d+',\"\")\n",
    "data.columns=data.columns.str.replace('\\t',\"\")\n",
    "data.columns=data.columns.str.strip()\n",
    "data.columns"
   ]
  },
  {
   "cell_type": "markdown",
   "metadata": {},
   "source": [
    "# Data Analysis/Visualisation"
   ]
  },
  {
   "cell_type": "code",
   "execution_count": 30,
   "metadata": {},
   "outputs": [
    {
     "data": {
      "text/plain": [
       "Female    67.29\n",
       "Male      32.71\n",
       "Name: Gender of respondent, dtype: float64"
      ]
     },
     "execution_count": 30,
     "metadata": {},
     "output_type": "execute_result"
    }
   ],
   "source": [
    "#Percentage of male and female \n",
    "round(data['Gender of respondent'].value_counts(normalize=True)*100,2)"
   ]
  },
  {
   "cell_type": "code",
   "execution_count": 31,
   "metadata": {},
   "outputs": [
    {
     "data": {
      "text/plain": [
       "<matplotlib.axes._subplots.AxesSubplot at 0x2463e8c8160>"
      ]
     },
     "execution_count": 31,
     "metadata": {},
     "output_type": "execute_result"
    },
    {
     "data": {
      "image/png": "[encoded data removed]",
      "text/plain": [
       "<Figure size 432x288 with 1 Axes>"
      ]
     },
     "metadata": {
      "needs_background": "light"
     },
     "output_type": "display_data"
    }
   ],
   "source": [
    "data['Gender of respondent'].value_counts(normalize=True).plot(kind='bar')"
   ]
  },
  {
   "cell_type": "code",
   "execution_count": 32,
   "metadata": {},
   "outputs": [
    {
     "data": {
      "text/plain": [
       "31-40 years           30.11\n",
       "21-30 years           29.37\n",
       "41-50 yaers           26.02\n",
       "Less than 20 years     7.43\n",
       "51 years and above     7.06\n",
       "Name: How old are you?, dtype: float64"
      ]
     },
     "execution_count": 32,
     "metadata": {},
     "output_type": "execute_result"
    }
   ],
   "source": [
    "#Age group of the Respondents\n",
    "round(data['How old are you?'].value_counts(normalize=True)*100,2)"
   ]
  },
  {
   "cell_type": "code",
   "execution_count": 33,
   "metadata": {},
   "outputs": [
    {
     "data": {
      "text/plain": [
       "<matplotlib.axes._subplots.AxesSubplot at 0x2463e9b3fd0>"
      ]
     },
     "execution_count": 33,
     "metadata": {},
     "output_type": "execute_result"
    },
    {
     "data": {
      "image/png": "[encoded data removed]",
      "text/plain": [
       "<Figure size 432x288 with 1 Axes>"
      ]
     },
     "metadata": {
      "needs_background": "light"
     },
     "output_type": "display_data"
    }
   ],
   "source": [
    "data['How old are you?'].value_counts(normalize=True).plot(kind='bar')"
   ]
  },
  {
   "cell_type": "code",
   "execution_count": 34,
   "metadata": {},
   "outputs": [
    {
     "data": {
      "text/plain": [
       "Delhi            21.56\n",
       "Greater Noida    15.99\n",
       "Noida            14.87\n",
       "Bangalore        13.75\n",
       "Karnal           10.04\n",
       "Solan             6.69\n",
       "Ghaziabad         6.69\n",
       "Gurgaon           4.46\n",
       "Merrut            3.35\n",
       "Moradabad         1.86\n",
       "Bulandshahr       0.74\n",
       "Name: Which city do you shop online from?, dtype: float64"
      ]
     },
     "execution_count": 34,
     "metadata": {},
     "output_type": "execute_result"
    }
   ],
   "source": [
    "#Respondent's city analysis\n",
    "round(data['Which city do you shop online from?'].value_counts(normalize=True)*100,2)"
   ]
  },
  {
   "cell_type": "code",
   "execution_count": 35,
   "metadata": {},
   "outputs": [
    {
     "data": {
      "text/plain": [
       "<matplotlib.axes._subplots.AxesSubplot at 0x2463ea086a0>"
      ]
     },
     "execution_count": 35,
     "metadata": {},
     "output_type": "execute_result"
    },
    {
     "data": {
      "image/png": "[encoded data removed]",
      "text/plain": [
       "<Figure size 432x288 with 1 Axes>"
      ]
     },
     "metadata": {
      "needs_background": "light"
     },
     "output_type": "display_data"
    }
   ],
   "source": [
    "data['Which city do you shop online from?'].value_counts(normalize=True).plot(kind='bar')"
   ]
  },
  {
   "cell_type": "markdown",
   "metadata": {},
   "source": [
    "Shopping Behavior Analysis"
   ]
  },
  {
   "cell_type": "code",
   "execution_count": 9,
   "metadata": {},
   "outputs": [],
   "source": [
    "#List all the columns coming under shopping behavior\n",
    "Shopping=['Since How Long You are Shopping Online ?',\n",
    "       'How many times you have made an online purchase in the past  year?',\n",
    "       'How do you access the internet while shopping on-line?',\n",
    "       'Which device do you use to access the online shopping?',\n",
    "       'What is the screen size of your mobile device?',\n",
    "       'What is the operating system (OS) of your device?',\n",
    "       'What browser do you run on your device to access the website?',\n",
    "       'Which channel did you follow to arrive at your favorite online store for the first time?',\n",
    "       'After first visit, how do you reach the online retail store?',\n",
    "       'How much time do you explore the e- retail store before making a purchase decision?',\n",
    "       'What is your preferred payment Option?',\n",
    "       'How frequently do you abandon (selecting an items and leaving without making payment) your shopping cart?',\n",
    "       'Why did you abandon the Bag, Shopping Cart?']"
   ]
  },
  {
   "cell_type": "code",
   "execution_count": 10,
   "metadata": {},
   "outputs": [],
   "source": [
    "#list the percentage of each category in a column\n",
    "Shopping_behavior=[]\n",
    "for i in Shopping:\n",
    "    Shopping_behavior.append(round(data[i].value_counts(normalize=True)*100,2))\n",
    "    Shopping_behavior.append('---------------------')\n"
   ]
  },
  {
   "cell_type": "code",
   "execution_count": 11,
   "metadata": {},
   "outputs": [
    {
     "data": {
      "text/plain": [
       "[Above 4 years       36.43\n",
       " 2-3 years           24.16\n",
       " 3-4 years           17.47\n",
       " Less than 1 year    15.99\n",
       " 1-2 years            5.95\n",
       " Name: Since How Long You are Shopping Online ?, dtype: float64,\n",
       " '---------------------',\n",
       " Less than 10 times    42.38\n",
       " 31-40 times           23.42\n",
       " 41 times and above    17.47\n",
       " 11-20 times           10.78\n",
       " 21-30 times            3.72\n",
       " 42 times and above     2.23\n",
       " Name: How many times you have made an online purchase in the past  year?, dtype: float64,\n",
       " '---------------------',\n",
       " Mobile internet    52.79\n",
       " Wi-Fi              28.25\n",
       " Mobile Internet    17.47\n",
       " Dial-up             1.49\n",
       " Name: How do you access the internet while shopping on-line?, dtype: float64,\n",
       " '---------------------',\n",
       " Smartphone    52.42\n",
       " Laptop        31.97\n",
       " Desktop       11.15\n",
       " Tablet         4.46\n",
       " Name: Which device do you use to access the online shopping?, dtype: float64,\n",
       " '---------------------',\n",
       " Others        49.81\n",
       " 5.5 inches    36.80\n",
       " 4.7 inches    10.78\n",
       " 5 inches       2.60\n",
       " Name: What is the screen size of your mobile device?, dtype: float64,\n",
       " '---------------------',\n",
       " Window/windows Mobile    45.35\n",
       " Android                  31.60\n",
       " IOS/Mac                  23.05\n",
       " Name: What is the operating system (OS) of your device?, dtype: float64,\n",
       " '---------------------',\n",
       " Google chrome      80.30\n",
       " Safari             14.87\n",
       " Opera               2.97\n",
       " Mozilla Firefox     1.86\n",
       " Name: What browser do you run on your device to access the website?, dtype: float64,\n",
       " '---------------------',\n",
       " Search Engine        85.50\n",
       " Content Marketing     7.43\n",
       " Display Adverts       7.06\n",
       " Name: Which channel did you follow to arrive at your favorite online store for the first time?, dtype: float64,\n",
       " '---------------------',\n",
       " Search Engine      32.34\n",
       " Via application    31.97\n",
       " Direct URL         26.02\n",
       " E-mail              6.69\n",
       " Social Media        2.97\n",
       " Name: After first visit, how do you reach the online retail store?, dtype: float64,\n",
       " '---------------------',\n",
       " more than 15 mins    45.72\n",
       " 6-10 mins            26.39\n",
       " 11-15 mins           17.10\n",
       " Less than 1 min       5.58\n",
       " 1-5 mins              5.20\n",
       " Name: How much time do you explore the e- retail store before making a purchase decision?, dtype: float64,\n",
       " '---------------------',\n",
       " Credit/Debit cards                    55.02\n",
       " Cash on delivery (CoD)                28.25\n",
       " E-wallets (Paytm, Freecharge etc.)    16.73\n",
       " Name: What is your preferred payment Option?, dtype: float64,\n",
       " '---------------------',\n",
       " Sometimes          63.57\n",
       " Never              17.84\n",
       " Frequently         13.01\n",
       " Very frequently     5.58\n",
       " Name: How frequently do you abandon (selecting an items and leaving without making payment) your shopping cart?, dtype: float64,\n",
       " '---------------------',\n",
       " Better alternative offer        49.44\n",
       " Promo code not applicable       20.07\n",
       " Change in price                 13.75\n",
       " Lack of trust                   11.52\n",
       " No preferred mode of payment     5.20\n",
       " Name: Why did you abandon the Bag, Shopping Cart?, dtype: float64,\n",
       " '---------------------']"
      ]
     },
     "execution_count": 11,
     "metadata": {},
     "output_type": "execute_result"
    }
   ],
   "source": [
    "Shopping_behavior"
   ]
  },
  {
   "cell_type": "markdown",
   "metadata": {},
   "source": [
    "# Utilitarian Values"
   ]
  },
  {
   "cell_type": "markdown",
   "metadata": {},
   "source": [
    " Convenience Factors"
   ]
  },
  {
   "cell_type": "code",
   "execution_count": 13,
   "metadata": {},
   "outputs": [],
   "source": [
    "#list all the columns coming under Convenience Factors\n",
    "convenience=['The content on the website must be easy to read and understand','Ease of navigation in website',\n",
    "    'Loading and processing speed',\n",
    "'User friendly Interface of the website',\n",
    "'Convenient Payment methods',\n",
    "'The Convenience of patronizing the online retailer',\n",
    "'Shopping online is convenient and flexible',\n",
    "'Return and replacement policy of the e-tailer is important for purchase decision']\n",
    "\n"
   ]
  },
  {
   "cell_type": "code",
   "execution_count": 14,
   "metadata": {},
   "outputs": [],
   "source": [
    "#Find out the percentage of respondents who stongly agree/agree in each of the convenience factors\n",
    "Convenience_per=[]\n",
    "for i in convenience:\n",
    "    Convenience_per.append(round(data[i].value_counts(normalize=True)*100,2))\n",
    "    Convenience_per.append('---------------------')\n"
   ]
  },
  {
   "cell_type": "code",
   "execution_count": 15,
   "metadata": {},
   "outputs": [
    {
     "data": {
      "text/plain": [
       "[Strongly agree (5)       60.97\n",
       " Agree (4)                29.74\n",
       " Strongly disagree (1)     6.69\n",
       " Indifferent (3)           2.60\n",
       " Name: The content on the website must be easy to read and understand, dtype: float64,\n",
       " '---------------------',\n",
       " Strongly agree (5)       52.42\n",
       " Agree (4)                39.03\n",
       " Strongly disagree (1)     6.69\n",
       " Dis-agree (2)             1.86\n",
       " Name: Ease of navigation in website, dtype: float64,\n",
       " '---------------------',\n",
       " Strongly agree (5)       42.75\n",
       " Agree (4)                41.64\n",
       " Dis-agree (2)             6.69\n",
       " Strongly disagree (1)     4.46\n",
       " Indifferent (3)           4.46\n",
       " Name: Loading and processing speed, dtype: float64,\n",
       " '---------------------',\n",
       " Strongly agree (5)       70.26\n",
       " Agree (4)                16.73\n",
       " Strongly disagree (1)     6.69\n",
       " Dis-agree (2)             4.46\n",
       " Indifferent (3)           1.86\n",
       " Name: User friendly Interface of the website, dtype: float64,\n",
       " '---------------------',\n",
       " Strongly agree (5)    59.11\n",
       " Agree (4)             29.74\n",
       " Dis-agree (2)         11.15\n",
       " Name: Convenient Payment methods, dtype: float64,\n",
       " '---------------------',\n",
       " Agree (4)             51.30\n",
       " indifferent (3)       28.62\n",
       " Strongly agree (5)    20.07\n",
       " Name: The Convenience of patronizing the online retailer, dtype: float64,\n",
       " '---------------------',\n",
       " Strongly agree (5)    54.28\n",
       " Agree (4)             29.00\n",
       " indifferent (3)       12.27\n",
       " Dis-agree (2)          4.46\n",
       " Name: Shopping online is convenient and flexible, dtype: float64,\n",
       " '---------------------',\n",
       " Strongly agree (5)    73.61\n",
       " Agree (4)             18.96\n",
       " Dis-agree (2)          7.43\n",
       " Name: Return and replacement policy of the e-tailer is important for purchase decision, dtype: float64,\n",
       " '---------------------']"
      ]
     },
     "execution_count": 15,
     "metadata": {},
     "output_type": "execute_result"
    }
   ],
   "source": [
    "Convenience_per"
   ]
  },
  {
   "cell_type": "code",
   "execution_count": 16,
   "metadata": {},
   "outputs": [
    {
     "data": {
      "image/png": "[encoded data removed]",
      "text/plain": [
       "<Figure size 432x288 with 1 Axes>"
      ]
     },
     "metadata": {
      "needs_background": "light"
     },
     "output_type": "display_data"
    },
    {
     "data": {
      "image/png": "[encoded data removed]",
      "text/plain": [
       "<Figure size 432x288 with 1 Axes>"
      ]
     },
     "metadata": {
      "needs_background": "light"
     },
     "output_type": "display_data"
    },
    {
     "data": {
      "image/png": "[encoded data removed]",
      "text/plain": [
       "<Figure size 432x288 with 1 Axes>"
      ]
     },
     "metadata": {
      "needs_background": "light"
     },
     "output_type": "display_data"
    },
    {
     "data": {
      "image/png": "[encoded data removed]",
      "text/plain": [
       "<Figure size 432x288 with 1 Axes>"
      ]
     },
     "metadata": {
      "needs_background": "light"
     },
     "output_type": "display_data"
    },
    {
     "data": {
      "image/png": "[encoded data removed]",
      "text/plain": [
       "<Figure size 432x288 with 1 Axes>"
      ]
     },
     "metadata": {
      "needs_background": "light"
     },
     "output_type": "display_data"
    },
    {
     "data": {
      "image/png": "[encoded data removed]",
      "text/plain": [
       "<Figure size 432x288 with 1 Axes>"
      ]
     },
     "metadata": {
      "needs_background": "light"
     },
     "output_type": "display_data"
    },
    {
     "data": {
      "image/png": "[encoded data removed]",
      "text/plain": [
       "<Figure size 432x288 with 1 Axes>"
      ]
     },
     "metadata": {
      "needs_background": "light"
     },
     "output_type": "display_data"
    },
    {
     "data": {
      "image/png": "[encoded data removed]",
      "text/plain": [
       "<Figure size 432x288 with 1 Axes>"
      ]
     },
     "metadata": {
      "needs_background": "light"
     },
     "output_type": "display_data"
    }
   ],
   "source": [
    "#Visualization of Convenience factors\n",
    "for i in convenience:\n",
    "    fig=plt.subplots(1,1)\n",
    "    data[i].value_counts(normalize=True).plot(kind='bar')\n",
    "    plt.title(i)\n",
    "    "
   ]
  },
  {
   "cell_type": "markdown",
   "metadata": {},
   "source": [
    "# Product Offerings"
   ]
  },
  {
   "cell_type": "code",
   "execution_count": 174,
   "metadata": {},
   "outputs": [
    {
     "data": {
      "text/plain": [
       "Text(0.5, 1.0, 'Product Offering')"
      ]
     },
     "execution_count": 174,
     "metadata": {},
     "output_type": "execute_result"
    },
    {
     "data": {
      "image/png": "[encoded data removed]",
      "text/plain": [
       "<Figure size 432x288 with 1 Axes>"
      ]
     },
     "metadata": {
      "needs_background": "light"
     },
     "output_type": "display_data"
    }
   ],
   "source": [
    "#Visualization and percentage values of Product offerings columns\n",
    "data['Offering a wide variety of listed product in several category'].value_counts(normalize=True).plot(kind='bar')\n",
    "plt.title('Product Offering')"
   ]
  },
  {
   "cell_type": "code",
   "execution_count": 17,
   "metadata": {},
   "outputs": [
    {
     "data": {
      "text/plain": [
       "Strongly agree (5)    41.26\n",
       "Agree (4)             34.94\n",
       "indifferent (3)       21.19\n",
       "Dis-agree (2)          2.60\n",
       "Name: Offering a wide variety of listed product in several category, dtype: float64"
      ]
     },
     "execution_count": 17,
     "metadata": {},
     "output_type": "execute_result"
    }
   ],
   "source": [
    "round(data['Offering a wide variety of listed product in several category'].value_counts(normalize=True)*100,2)"
   ]
  },
  {
   "cell_type": "markdown",
   "metadata": {},
   "source": [
    "# Product Information"
   ]
  },
  {
   "cell_type": "code",
   "execution_count": 18,
   "metadata": {},
   "outputs": [],
   "source": [
    "Product_info=['Information on similar product to the one highlighted  is important for product comparison',\n",
    "'Complete information on listed seller and product being offered is important for purchase decision.',\n",
    " 'All relevant information on listed products must be stated clearly',\n",
    "'Provision of complete and relevant product information'\n",
    "]"
   ]
  },
  {
   "cell_type": "code",
   "execution_count": 177,
   "metadata": {},
   "outputs": [
    {
     "data": {
      "image/png": "[encoded data removed]",
      "text/plain": [
       "<Figure size 432x288 with 1 Axes>"
      ]
     },
     "metadata": {
      "needs_background": "light"
     },
     "output_type": "display_data"
    },
    {
     "data": {
      "image/png": "[encoded data removed]",
      "text/plain": [
       "<Figure size 432x288 with 1 Axes>"
      ]
     },
     "metadata": {
      "needs_background": "light"
     },
     "output_type": "display_data"
    },
    {
     "data": {
      "image/png": "[encoded data removed]",
      "text/plain": [
       "<Figure size 432x288 with 1 Axes>"
      ]
     },
     "metadata": {
      "needs_background": "light"
     },
     "output_type": "display_data"
    },
    {
     "data": {
      "image/png": "[encoded data removed]",
      "text/plain": [
       "<Figure size 432x288 with 1 Axes>"
      ]
     },
     "metadata": {
      "needs_background": "light"
     },
     "output_type": "display_data"
    }
   ],
   "source": [
    "for j in Product_info:\n",
    "    fig=plt.subplots(1,1)\n",
    "    data[j].value_counts(normalize=True).plot(kind='bar')\n",
    "    plt.title(j)\n",
    "    "
   ]
  },
  {
   "cell_type": "code",
   "execution_count": 22,
   "metadata": {},
   "outputs": [
    {
     "data": {
      "text/plain": [
       "[Strongly agree (5)    43.12\n",
       " Agree (4)             34.20\n",
       " Indifferent (3)       15.99\n",
       " Dis-agree (2)          6.69\n",
       " Name: Information on similar product to the one highlighted  is important for product comparison, dtype: float64,\n",
       " '---------------------',\n",
       " Agree (4)                37.55\n",
       " Strongly agree (5)       32.34\n",
       " Indifferent (3)          19.33\n",
       " Dis-agree (2)             6.69\n",
       " Strongly disagree (1)     4.09\n",
       " Name: Complete information on listed seller and product being offered is important for purchase decision., dtype: float64,\n",
       " '---------------------',\n",
       " Agree (4)                49.07\n",
       " Strongly agree (5)       39.78\n",
       " Strongly disagree (1)     6.69\n",
       " Dis-agree (2)             4.46\n",
       " Name: All relevant information on listed products must be stated clearly, dtype: float64,\n",
       " '---------------------',\n",
       " Strongly agree (5)    50.19\n",
       " Agree (4)             36.43\n",
       " indifferent (3)       11.52\n",
       " Disagree (2)           1.86\n",
       " Name: Provision of complete and relevant product information, dtype: float64,\n",
       " '---------------------']"
      ]
     },
     "execution_count": 22,
     "metadata": {},
     "output_type": "execute_result"
    }
   ],
   "source": [
    "Prodinfo_per=[]\n",
    "for i in Product_info:\n",
    "    Prodinfo_per.append(round(data[i].value_counts(normalize=True)*100,2))\n",
    "    Prodinfo_per.append('---------------------')\n",
    "             \n",
    "Prodinfo_per"
   ]
  },
  {
   "cell_type": "markdown",
   "metadata": {},
   "source": [
    "# Monetary savings"
   ]
  },
  {
   "cell_type": "code",
   "execution_count": 24,
   "metadata": {},
   "outputs": [
    {
     "data": {
      "image/png": "[encoded data removed]",
      "text/plain": [
       "<Figure size 432x288 with 1 Axes>"
      ]
     },
     "metadata": {
      "needs_background": "light"
     },
     "output_type": "display_data"
    },
    {
     "data": {
      "image/png": "[encoded data removed]",
      "text/plain": [
       "<Figure size 432x288 with 1 Axes>"
      ]
     },
     "metadata": {
      "needs_background": "light"
     },
     "output_type": "display_data"
    }
   ],
   "source": [
    "Monetary_savings=['Monetary savings','Getting value for money spent']\n",
    "for j in Monetary_savings:\n",
    "    fig=plt.subplots(1,1)\n",
    "    data[j].value_counts(normalize=True).plot(kind='bar')\n",
    "    plt.title(j)\n",
    "    "
   ]
  },
  {
   "cell_type": "code",
   "execution_count": 27,
   "metadata": {},
   "outputs": [
    {
     "data": {
      "text/plain": [
       "[Strongly agree (5)    55.02\n",
       " Agree (4)             27.88\n",
       " Disagree (2)          11.52\n",
       " indifferent (3)        5.58\n",
       " Name: Monetary savings, dtype: float64,\n",
       " '---------------------------------------------',\n",
       " Agree (4)             55.39\n",
       " Strongly agree (5)    30.48\n",
       " indifferent (3)       14.13\n",
       " Name: Getting value for money spent, dtype: float64,\n",
       " '---------------------------------------------']"
      ]
     },
     "execution_count": 27,
     "metadata": {},
     "output_type": "execute_result"
    }
   ],
   "source": [
    "Monetarysavings_per=[]\n",
    "for i in Monetary_savings:\n",
    "    Monetarysavings_per.append(round(data[i].value_counts(normalize=True)*100,2))\n",
    "    Monetarysavings_per.append('---------------------------------------------')\n",
    "Monetarysavings_per"
   ]
  },
  {
   "cell_type": "markdown",
   "metadata": {},
   "source": [
    "# Gratification"
   ]
  },
  {
   "cell_type": "code",
   "execution_count": 26,
   "metadata": {},
   "outputs": [
    {
     "data": {
      "image/png": "[encoded data removed]",
      "text/plain": [
       "<Figure size 432x288 with 1 Axes>"
      ]
     },
     "metadata": {
      "needs_background": "light"
     },
     "output_type": "display_data"
    },
    {
     "data": {
      "image/png": "[encoded data removed]",
      "text/plain": [
       "<Figure size 432x288 with 1 Axes>"
      ]
     },
     "metadata": {
      "needs_background": "light"
     },
     "output_type": "display_data"
    },
    {
     "data": {
      "image/png": "[encoded data removed]",
      "text/plain": [
       "<Figure size 432x288 with 1 Axes>"
      ]
     },
     "metadata": {
      "needs_background": "light"
     },
     "output_type": "display_data"
    },
    {
     "data": {
      "image/png": "[encoded data removed]",
      "text/plain": [
       "<Figure size 432x288 with 1 Axes>"
      ]
     },
     "metadata": {
      "needs_background": "light"
     },
     "output_type": "display_data"
    },
    {
     "data": {
      "image/png": "[encoded data removed]",
      "text/plain": [
       "<Figure size 432x288 with 1 Axes>"
      ]
     },
     "metadata": {
      "needs_background": "light"
     },
     "output_type": "display_data"
    },
    {
     "data": {
      "image/png": "[encoded data removed]",
      "text/plain": [
       "<Figure size 432x288 with 1 Axes>"
      ]
     },
     "metadata": {
      "needs_background": "light"
     },
     "output_type": "display_data"
    },
    {
     "data": {
      "image/png": "[encoded data removed]",
      "text/plain": [
       "<Figure size 432x288 with 1 Axes>"
      ]
     },
     "metadata": {
      "needs_background": "light"
     },
     "output_type": "display_data"
    },
    {
     "data": {
      "image/png": "[encoded data removed]",
      "text/plain": [
       "<Figure size 432x288 with 1 Axes>"
      ]
     },
     "metadata": {
      "needs_background": "light"
     },
     "output_type": "display_data"
    },
    {
     "data": {
      "image/png": "[encoded data removed]",
      "text/plain": [
       "<Figure size 432x288 with 1 Axes>"
      ]
     },
     "metadata": {
      "needs_background": "light"
     },
     "output_type": "display_data"
    },
    {
     "data": {
      "image/png": "[encoded data removed]",
      "text/plain": [
       "<Figure size 432x288 with 1 Axes>"
      ]
     },
     "metadata": {
      "needs_background": "light"
     },
     "output_type": "display_data"
    }
   ],
   "source": [
    "Gratification=['Trust that the online retail store will fulfill its part of the transaction at the stipulated time',\n",
    "'Empathy (readiness to assist with queries) towards the customers',\n",
    "'Being able to guarantee the privacy of the customer',\n",
    " 'Responsiveness, availability of several communication channels (email, online rep, twitter, phone etc.)',\n",
    "'Enjoyment is derived from shopping online',\n",
    "'User derive satisfaction while shopping on a good quality website or application',\n",
    "'Net Benefit derived from shopping online can lead to users satisfaction',\n",
    "'You feel gratification shopping on your favorite e-tailer',\n",
    " 'User satisfaction cannot exist without trust',\n",
    "'Displaying quality Information on the website improves satisfaction of customers'\n",
    "]\n",
    "for j in Gratification:\n",
    "    fig=plt.subplots(1,1)\n",
    "    data[j].value_counts(normalize=True).plot(kind='bar')\n",
    "    plt.title(j)\n",
    "    "
   ]
  },
  {
   "cell_type": "code",
   "execution_count": 28,
   "metadata": {},
   "outputs": [
    {
     "data": {
      "text/plain": [
       "[Strongly agree (5)    0.52\n",
       " Agree (4)             0.32\n",
       " Disagree (2)          0.11\n",
       " indifferent  (3)      0.04\n",
       " Name: Trust that the online retail store will fulfill its part of the transaction at the stipulated time, dtype: float64,\n",
       " '---------------------------------------------',\n",
       " Strongly agree (5)       0.72\n",
       " Agree (4)                0.16\n",
       " Strongly disagree (1)    0.07\n",
       " indifferent (3)          0.06\n",
       " Name: Empathy (readiness to assist with queries) towards the customers, dtype: float64,\n",
       " '---------------------------------------------',\n",
       " Strongly agree (5)    0.69\n",
       " Agree (4)             0.22\n",
       " indifferent (3)       0.10\n",
       " Name: Being able to guarantee the privacy of the customer, dtype: float64,\n",
       " '---------------------------------------------',\n",
       " Strongly agree (5)       0.55\n",
       " Agree (4)                0.35\n",
       " indifferent (3)          0.06\n",
       " Strongly disagree (1)    0.04\n",
       " Name: Responsiveness, availability of several communication channels (email, online rep, twitter, phone etc.), dtype: float64,\n",
       " '---------------------------------------------',\n",
       " Strongly agree (5)       0.32\n",
       " indifferent (3)          0.28\n",
       " Agree (4)                0.22\n",
       " Strongly disagree (1)    0.11\n",
       " Dis-agree (2)            0.07\n",
       " Name: Enjoyment is derived from shopping online, dtype: float64,\n",
       " '---------------------------------------------',\n",
       " Strongly agree (5)    0.65\n",
       " Agree (4)             0.32\n",
       " Dis-agree (2)         0.03\n",
       " Name: User derive satisfaction while shopping on a good quality website or application, dtype: float64,\n",
       " '---------------------------------------------',\n",
       " Strongly agree (5)    0.61\n",
       " Agree (4)             0.20\n",
       " indifferent (3)       0.15\n",
       " Dis-agree (2)         0.04\n",
       " Name: Net Benefit derived from shopping online can lead to users satisfaction, dtype: float64,\n",
       " '---------------------------------------------',\n",
       " indifferent (3)          0.38\n",
       " Strongly agree (5)       0.24\n",
       " Agree (4)                0.23\n",
       " Disagree (2)             0.08\n",
       " Strongly disagree (1)    0.07\n",
       " Name: You feel gratification shopping on your favorite e-tailer, dtype: float64,\n",
       " '---------------------------------------------',\n",
       " Strongly agree (5)       0.45\n",
       " Agree (4)                0.43\n",
       " Strongly disagree (1)    0.07\n",
       " Dis-agree (2)            0.03\n",
       " indifferent (3)          0.02\n",
       " Name: User satisfaction cannot exist without trust, dtype: float64,\n",
       " '---------------------------------------------',\n",
       " Strongly agree (5)    0.49\n",
       " Agree (4)             0.30\n",
       " indifferent (3)       0.21\n",
       " Name: Displaying quality Information on the website improves satisfaction of customers, dtype: float64,\n",
       " '---------------------------------------------']"
      ]
     },
     "execution_count": 28,
     "metadata": {},
     "output_type": "execute_result"
    }
   ],
   "source": [
    "Gratification_per=[]\n",
    "for i in Gratification:\n",
    "    Gratification_per.append(round(data[i].value_counts(normalize=True),2))\n",
    "    Gratification_per.append('---------------------------------------------')\n",
    "Gratification_per"
   ]
  },
  {
   "cell_type": "markdown",
   "metadata": {},
   "source": [
    "# Role"
   ]
  },
  {
   "cell_type": "code",
   "execution_count": 29,
   "metadata": {},
   "outputs": [
    {
     "data": {
      "text/plain": [
       "Text(0.5, 1.0, 'Role')"
      ]
     },
     "execution_count": 29,
     "metadata": {},
     "output_type": "execute_result"
    },
    {
     "data": {
      "image/png": "[encoded data removed]",
      "text/plain": [
       "<Figure size 432x288 with 1 Axes>"
      ]
     },
     "metadata": {
      "needs_background": "light"
     },
     "output_type": "display_data"
    }
   ],
   "source": [
    "data['Shopping on the website helps you fulfill certain roles'].value_counts(normalize=True).plot(kind='bar')\n",
    "plt.title('Role')"
   ]
  },
  {
   "cell_type": "code",
   "execution_count": 30,
   "metadata": {},
   "outputs": [
    {
     "data": {
      "text/plain": [
       "Agree (4)                32.71\n",
       "indifferent (3)          32.71\n",
       "Strongly agree (5)       14.13\n",
       "Strongly disagree (1)    12.27\n",
       "Dis-agree (2)             8.18\n",
       "Name: Shopping on the website helps you fulfill certain roles, dtype: float64"
      ]
     },
     "execution_count": 30,
     "metadata": {},
     "output_type": "execute_result"
    }
   ],
   "source": [
    "Role_per=round(data['Shopping on the website helps you fulfill certain roles'].value_counts(normalize=True)*100,2)\n",
    "Role_per"
   ]
  },
  {
   "cell_type": "markdown",
   "metadata": {},
   "source": [
    "# Best deal"
   ]
  },
  {
   "cell_type": "code",
   "execution_count": 31,
   "metadata": {},
   "outputs": [
    {
     "data": {
      "image/png": "[encoded data removed]",
      "text/plain": [
       "<Figure size 432x288 with 1 Axes>"
      ]
     },
     "metadata": {
      "needs_background": "light"
     },
     "output_type": "display_data"
    },
    {
     "data": {
      "image/png": "[encoded data removed]",
      "text/plain": [
       "<Figure size 432x288 with 1 Axes>"
      ]
     },
     "metadata": {
      "needs_background": "light"
     },
     "output_type": "display_data"
    }
   ],
   "source": [
    "Best_deal=['Online shopping gives monetary benefit and discounts','Return and replacement policy of the e-tailer is important for purchase decision']\n",
    "for j in Best_deal:\n",
    "    fig=plt.subplots(1,1)\n",
    "    data[j].value_counts(normalize=True).plot(kind='bar')\n",
    "    plt.title(j)\n",
    "    "
   ]
  },
  {
   "cell_type": "code",
   "execution_count": 32,
   "metadata": {},
   "outputs": [
    {
     "data": {
      "text/plain": [
       "[Strongly agree (5)       0.39\n",
       " Agree (4)                0.32\n",
       " indifferent (3)          0.19\n",
       " Strongly disagree (1)    0.07\n",
       " Dis-agree (2)            0.04\n",
       " Name: Online shopping gives monetary benefit and discounts, dtype: float64,\n",
       " '---------------------------------------------',\n",
       " Strongly agree (5)    0.74\n",
       " Agree (4)             0.19\n",
       " Dis-agree (2)         0.07\n",
       " Name: Return and replacement policy of the e-tailer is important for purchase decision, dtype: float64,\n",
       " '---------------------------------------------']"
      ]
     },
     "execution_count": 32,
     "metadata": {},
     "output_type": "execute_result"
    }
   ],
   "source": [
    "Bestdeal_per=[]\n",
    "for i in Best_deal:\n",
    "    Bestdeal_per.append(round(data[i].value_counts(normalize=True),2))\n",
    "    Bestdeal_per.append('---------------------------------------------')\n",
    "Bestdeal_per"
   ]
  },
  {
   "cell_type": "markdown",
   "metadata": {},
   "source": [
    "# Social"
   ]
  },
  {
   "cell_type": "code",
   "execution_count": 83,
   "metadata": {},
   "outputs": [
    {
     "data": {
      "text/plain": [
       "Text(0.5, 1.0, 'Social')"
      ]
     },
     "execution_count": 83,
     "metadata": {},
     "output_type": "execute_result"
    },
    {
     "data": {
      "image/png": "[encoded data removed]",
      "text/plain": [
       "<Figure size 432x288 with 1 Axes>"
      ]
     },
     "metadata": {
      "needs_background": "light"
     },
     "output_type": "display_data"
    }
   ],
   "source": [
    "data['Shopping on your preferred e-tailer enhances your social status'].value_counts(normalize=True).plot(kind='bar')\n",
    "plt.title('Social')"
   ]
  },
  {
   "cell_type": "code",
   "execution_count": 33,
   "metadata": {},
   "outputs": [
    {
     "data": {
      "text/plain": [
       "indifferent (3)          37.17\n",
       "Agree (4)                21.93\n",
       "Strongly agree (5)       17.84\n",
       "Strongly disagree (1)    12.27\n",
       "Dis-agree (2)            10.78\n",
       "Name: Shopping on your preferred e-tailer enhances your social status, dtype: float64"
      ]
     },
     "execution_count": 33,
     "metadata": {},
     "output_type": "execute_result"
    }
   ],
   "source": [
    "Social_per=round(data['Shopping on your preferred e-tailer enhances your social status'].value_counts(normalize=True)*100,2)\n",
    "Social_per"
   ]
  },
  {
   "cell_type": "markdown",
   "metadata": {},
   "source": [
    "# Adventure"
   ]
  },
  {
   "cell_type": "code",
   "execution_count": 188,
   "metadata": {},
   "outputs": [
    {
     "data": {
      "text/plain": [
       "Text(0.5, 1.0, 'Adventure')"
      ]
     },
     "execution_count": 188,
     "metadata": {},
     "output_type": "execute_result"
    },
    {
     "data": {
      "image/png": "[encoded data removed]",
      "text/plain": [
       "<Figure size 432x288 with 1 Axes>"
      ]
     },
     "metadata": {
      "needs_background": "light"
     },
     "output_type": "display_data"
    }
   ],
   "source": [
    "data['Shopping on the website gives you the sense of adventure'].value_counts(normalize=True).plot(kind='bar')\n",
    "plt.title('Adventure')"
   ]
  },
  {
   "cell_type": "code",
   "execution_count": 34,
   "metadata": {},
   "outputs": [
    {
     "data": {
      "text/plain": [
       "Agree (4)                37.55\n",
       "indifferent (3)          21.93\n",
       "Strongly agree (5)       20.07\n",
       "Dis-agree (2)            18.59\n",
       "Strongly disagree (1)     1.86\n",
       "Name: Shopping on the website gives you the sense of adventure, dtype: float64"
      ]
     },
     "execution_count": 34,
     "metadata": {},
     "output_type": "execute_result"
    }
   ],
   "source": [
    "Adventure_per=round(data['Shopping on the website gives you the sense of adventure'].value_counts(normalize=True)*100,2)\n",
    "Adventure_per"
   ]
  },
  {
   "cell_type": "markdown",
   "metadata": {},
   "source": [
    "# Picking  website from options"
   ]
  },
  {
   "cell_type": "markdown",
   "metadata": {},
   "source": [
    "Convenience Related factors"
   ]
  },
  {
   "cell_type": "code",
   "execution_count": 35,
   "metadata": {},
   "outputs": [],
   "source": [
    "Convenience1=['Easy to use website or application','Visual appealing web-page layout',\n",
    "'Fast loading website speed of website and application','Reliability of the website or application',\n",
    "'Quickness to complete purchase','Availability of several payment options','Speedy order delivery',\n",
    "\n",
    "'Presence of online assistance through multi-channel']\n"
   ]
  },
  {
   "cell_type": "code",
   "execution_count": 38,
   "metadata": {},
   "outputs": [],
   "source": [
    "#Create a dataframe where the number of respondents who prefered each of the e-retailers for each of the factor is listed\n",
    "C=pd.DataFrame()\n",
    "for i in Convenience1:\n",
    "    for j in ['Amazon.in','Flipkart.com','Paytm.com','Myntra.com','Snapdeal.com']:\n",
    "        C.loc[j,i]=data[i].str.contains(j).sum()\n",
    "        "
   ]
  },
  {
   "cell_type": "code",
   "execution_count": 39,
   "metadata": {},
   "outputs": [
    {
     "data": {
      "text/html": [
       "<div>\n",
       "<style scoped>\n",
       "    .dataframe tbody tr th:only-of-type {\n",
       "        vertical-align: middle;\n",
       "    }\n",
       "\n",
       "    .dataframe tbody tr th {\n",
       "        vertical-align: top;\n",
       "    }\n",
       "\n",
       "    .dataframe thead th {\n",
       "        text-align: right;\n",
       "    }\n",
       "</style>\n",
       "<table border=\"1\" class=\"dataframe\">\n",
       "  <thead>\n",
       "    <tr style=\"text-align: right;\">\n",
       "      <th></th>\n",
       "      <th>Easy to use website or application</th>\n",
       "      <th>Visual appealing web-page layout</th>\n",
       "      <th>Fast loading website speed of website and application</th>\n",
       "      <th>Reliability of the website or application</th>\n",
       "      <th>Quickness to complete purchase</th>\n",
       "      <th>Availability of several payment options</th>\n",
       "      <th>Speedy order delivery</th>\n",
       "      <th>Presence of online assistance through multi-channel</th>\n",
       "    </tr>\n",
       "  </thead>\n",
       "  <tbody>\n",
       "    <tr>\n",
       "      <th>Amazon.in</th>\n",
       "      <td>249.0</td>\n",
       "      <td>227.0</td>\n",
       "      <td>249.0</td>\n",
       "      <td>227.0</td>\n",
       "      <td>215.0</td>\n",
       "      <td>215.0</td>\n",
       "      <td>240.0</td>\n",
       "      <td>229.0</td>\n",
       "    </tr>\n",
       "    <tr>\n",
       "      <th>Flipkart.com</th>\n",
       "      <td>201.0</td>\n",
       "      <td>175.0</td>\n",
       "      <td>162.0</td>\n",
       "      <td>146.0</td>\n",
       "      <td>158.0</td>\n",
       "      <td>203.0</td>\n",
       "      <td>162.0</td>\n",
       "      <td>136.0</td>\n",
       "    </tr>\n",
       "    <tr>\n",
       "      <th>Paytm.com</th>\n",
       "      <td>125.0</td>\n",
       "      <td>67.0</td>\n",
       "      <td>99.0</td>\n",
       "      <td>96.0</td>\n",
       "      <td>107.0</td>\n",
       "      <td>0.0</td>\n",
       "      <td>0.0</td>\n",
       "      <td>25.0</td>\n",
       "    </tr>\n",
       "    <tr>\n",
       "      <th>Myntra.com</th>\n",
       "      <td>147.0</td>\n",
       "      <td>115.0</td>\n",
       "      <td>74.0</td>\n",
       "      <td>64.0</td>\n",
       "      <td>79.0</td>\n",
       "      <td>132.0</td>\n",
       "      <td>29.0</td>\n",
       "      <td>111.0</td>\n",
       "    </tr>\n",
       "    <tr>\n",
       "      <th>Snapdeal.com</th>\n",
       "      <td>130.0</td>\n",
       "      <td>61.0</td>\n",
       "      <td>81.0</td>\n",
       "      <td>45.0</td>\n",
       "      <td>0.0</td>\n",
       "      <td>90.0</td>\n",
       "      <td>50.0</td>\n",
       "      <td>0.0</td>\n",
       "    </tr>\n",
       "  </tbody>\n",
       "</table>\n",
       "</div>"
      ],
      "text/plain": [
       "              Easy to use website or application  \\\n",
       "Amazon.in                                  249.0   \n",
       "Flipkart.com                               201.0   \n",
       "Paytm.com                                  125.0   \n",
       "Myntra.com                                 147.0   \n",
       "Snapdeal.com                               130.0   \n",
       "\n",
       "              Visual appealing web-page layout  \\\n",
       "Amazon.in                                227.0   \n",
       "Flipkart.com                             175.0   \n",
       "Paytm.com                                 67.0   \n",
       "Myntra.com                               115.0   \n",
       "Snapdeal.com                              61.0   \n",
       "\n",
       "              Fast loading website speed of website and application  \\\n",
       "Amazon.in                                                 249.0       \n",
       "Flipkart.com                                              162.0       \n",
       "Paytm.com                                                  99.0       \n",
       "Myntra.com                                                 74.0       \n",
       "Snapdeal.com                                               81.0       \n",
       "\n",
       "              Reliability of the website or application  \\\n",
       "Amazon.in                                         227.0   \n",
       "Flipkart.com                                      146.0   \n",
       "Paytm.com                                          96.0   \n",
       "Myntra.com                                         64.0   \n",
       "Snapdeal.com                                       45.0   \n",
       "\n",
       "              Quickness to complete purchase  \\\n",
       "Amazon.in                              215.0   \n",
       "Flipkart.com                           158.0   \n",
       "Paytm.com                              107.0   \n",
       "Myntra.com                              79.0   \n",
       "Snapdeal.com                             0.0   \n",
       "\n",
       "              Availability of several payment options  Speedy order delivery  \\\n",
       "Amazon.in                                       215.0                  240.0   \n",
       "Flipkart.com                                    203.0                  162.0   \n",
       "Paytm.com                                         0.0                    0.0   \n",
       "Myntra.com                                      132.0                   29.0   \n",
       "Snapdeal.com                                     90.0                   50.0   \n",
       "\n",
       "              Presence of online assistance through multi-channel  \n",
       "Amazon.in                                                 229.0    \n",
       "Flipkart.com                                              136.0    \n",
       "Paytm.com                                                  25.0    \n",
       "Myntra.com                                                111.0    \n",
       "Snapdeal.com                                                0.0    "
      ]
     },
     "execution_count": 39,
     "metadata": {},
     "output_type": "execute_result"
    }
   ],
   "source": [
    "#Numbers in the column indicate the number of respondents who opted for a particular website\n",
    "C"
   ]
  },
  {
   "cell_type": "markdown",
   "metadata": {},
   "source": [
    "Product Offerings"
   ]
  },
  {
   "cell_type": "code",
   "execution_count": 40,
   "metadata": {},
   "outputs": [],
   "source": [
    "PO=pd.DataFrame()\n",
    "for j in ['Amazon.in','Flipkart.com','Paytm.com','Myntra.com','Snapdeal.com']:\n",
    "    PO.loc[j,'Wild variety of product on offer']=data['Wild variety of product on offer'].str.contains(j).sum()"
   ]
  },
  {
   "cell_type": "code",
   "execution_count": 41,
   "metadata": {},
   "outputs": [
    {
     "data": {
      "text/html": [
       "<div>\n",
       "<style scoped>\n",
       "    .dataframe tbody tr th:only-of-type {\n",
       "        vertical-align: middle;\n",
       "    }\n",
       "\n",
       "    .dataframe tbody tr th {\n",
       "        vertical-align: top;\n",
       "    }\n",
       "\n",
       "    .dataframe thead th {\n",
       "        text-align: right;\n",
       "    }\n",
       "</style>\n",
       "<table border=\"1\" class=\"dataframe\">\n",
       "  <thead>\n",
       "    <tr style=\"text-align: right;\">\n",
       "      <th></th>\n",
       "      <th>Wild variety of product on offer</th>\n",
       "    </tr>\n",
       "  </thead>\n",
       "  <tbody>\n",
       "    <tr>\n",
       "      <th>Amazon.in</th>\n",
       "      <td>220.0</td>\n",
       "    </tr>\n",
       "    <tr>\n",
       "      <th>Flipkart.com</th>\n",
       "      <td>184.0</td>\n",
       "    </tr>\n",
       "    <tr>\n",
       "      <th>Paytm.com</th>\n",
       "      <td>20.0</td>\n",
       "    </tr>\n",
       "    <tr>\n",
       "      <th>Myntra.com</th>\n",
       "      <td>64.0</td>\n",
       "    </tr>\n",
       "    <tr>\n",
       "      <th>Snapdeal.com</th>\n",
       "      <td>14.0</td>\n",
       "    </tr>\n",
       "  </tbody>\n",
       "</table>\n",
       "</div>"
      ],
      "text/plain": [
       "              Wild variety of product on offer\n",
       "Amazon.in                                220.0\n",
       "Flipkart.com                             184.0\n",
       "Paytm.com                                 20.0\n",
       "Myntra.com                                64.0\n",
       "Snapdeal.com                              14.0"
      ]
     },
     "execution_count": 41,
     "metadata": {},
     "output_type": "execute_result"
    }
   ],
   "source": [
    "#Number of respondents who opted each of the websites with respect to 'Wide variety of products on offer'\n",
    "PO \n"
   ]
  },
  {
   "cell_type": "markdown",
   "metadata": {},
   "source": [
    "Monetary Savings"
   ]
  },
  {
   "cell_type": "code",
   "execution_count": 197,
   "metadata": {},
   "outputs": [],
   "source": [
    "MS=pd.DataFrame()\n",
    "for j in ['Amazon.in','Flipkart.com','Paytm.com','Myntra.com','Snapdeal.com']:\n",
    "    MS.loc[j,'Security of customer financial information']=data['Security of customer financial information'].str.contains(j).sum()"
   ]
  },
  {
   "cell_type": "code",
   "execution_count": 198,
   "metadata": {},
   "outputs": [
    {
     "data": {
      "text/html": [
       "<div>\n",
       "<style scoped>\n",
       "    .dataframe tbody tr th:only-of-type {\n",
       "        vertical-align: middle;\n",
       "    }\n",
       "\n",
       "    .dataframe tbody tr th {\n",
       "        vertical-align: top;\n",
       "    }\n",
       "\n",
       "    .dataframe thead th {\n",
       "        text-align: right;\n",
       "    }\n",
       "</style>\n",
       "<table border=\"1\" class=\"dataframe\">\n",
       "  <thead>\n",
       "    <tr style=\"text-align: right;\">\n",
       "      <th></th>\n",
       "      <th>Security of customer financial information</th>\n",
       "    </tr>\n",
       "  </thead>\n",
       "  <tbody>\n",
       "    <tr>\n",
       "      <th>Amazon.in</th>\n",
       "      <td>206.0</td>\n",
       "    </tr>\n",
       "    <tr>\n",
       "      <th>Flipkart.com</th>\n",
       "      <td>149.0</td>\n",
       "    </tr>\n",
       "    <tr>\n",
       "      <th>Paytm.com</th>\n",
       "      <td>88.0</td>\n",
       "    </tr>\n",
       "    <tr>\n",
       "      <th>Myntra.com</th>\n",
       "      <td>91.0</td>\n",
       "    </tr>\n",
       "    <tr>\n",
       "      <th>Snapdeal.com</th>\n",
       "      <td>100.0</td>\n",
       "    </tr>\n",
       "  </tbody>\n",
       "</table>\n",
       "</div>"
      ],
      "text/plain": [
       "              Security of customer financial information\n",
       "Amazon.in                                          206.0\n",
       "Flipkart.com                                       149.0\n",
       "Paytm.com                                           88.0\n",
       "Myntra.com                                          91.0\n",
       "Snapdeal.com                                       100.0"
      ]
     },
     "execution_count": 198,
     "metadata": {},
     "output_type": "execute_result"
    }
   ],
   "source": [
    "MS"
   ]
  },
  {
   "cell_type": "markdown",
   "metadata": {},
   "source": [
    "Product Information"
   ]
  },
  {
   "cell_type": "code",
   "execution_count": 199,
   "metadata": {},
   "outputs": [],
   "source": [
    "PI=pd.DataFrame()\n",
    "for j in ['Amazon.in','Flipkart.com','Paytm.com','Myntra.com','Snapdeal.com']:\n",
    "    PI.loc[j,'Complete, relevant description information of products']=data['Complete, relevant description information of products'].str.contains(j).sum()"
   ]
  },
  {
   "cell_type": "code",
   "execution_count": 200,
   "metadata": {},
   "outputs": [
    {
     "data": {
      "text/html": [
       "<div>\n",
       "<style scoped>\n",
       "    .dataframe tbody tr th:only-of-type {\n",
       "        vertical-align: middle;\n",
       "    }\n",
       "\n",
       "    .dataframe tbody tr th {\n",
       "        vertical-align: top;\n",
       "    }\n",
       "\n",
       "    .dataframe thead th {\n",
       "        text-align: right;\n",
       "    }\n",
       "</style>\n",
       "<table border=\"1\" class=\"dataframe\">\n",
       "  <thead>\n",
       "    <tr style=\"text-align: right;\">\n",
       "      <th></th>\n",
       "      <th>Complete, relevant description information of products</th>\n",
       "    </tr>\n",
       "  </thead>\n",
       "  <tbody>\n",
       "    <tr>\n",
       "      <th>Amazon.in</th>\n",
       "      <td>238.0</td>\n",
       "    </tr>\n",
       "    <tr>\n",
       "      <th>Flipkart.com</th>\n",
       "      <td>194.0</td>\n",
       "    </tr>\n",
       "    <tr>\n",
       "      <th>Paytm.com</th>\n",
       "      <td>59.0</td>\n",
       "    </tr>\n",
       "    <tr>\n",
       "      <th>Myntra.com</th>\n",
       "      <td>64.0</td>\n",
       "    </tr>\n",
       "    <tr>\n",
       "      <th>Snapdeal.com</th>\n",
       "      <td>59.0</td>\n",
       "    </tr>\n",
       "  </tbody>\n",
       "</table>\n",
       "</div>"
      ],
      "text/plain": [
       "              Complete, relevant description information of products\n",
       "Amazon.in                                                 238.0     \n",
       "Flipkart.com                                              194.0     \n",
       "Paytm.com                                                  59.0     \n",
       "Myntra.com                                                 64.0     \n",
       "Snapdeal.com                                               59.0     "
      ]
     },
     "execution_count": 200,
     "metadata": {},
     "output_type": "execute_result"
    }
   ],
   "source": [
    "PI"
   ]
  },
  {
   "cell_type": "markdown",
   "metadata": {},
   "source": [
    "Gratification"
   ]
  },
  {
   "cell_type": "code",
   "execution_count": 201,
   "metadata": {},
   "outputs": [],
   "source": [
    "Gr=pd.DataFrame()\n",
    "for j in ['Amazon.in','Flipkart.com','Paytm.com','Myntra.com','Snapdeal.com']:\n",
    "    Gr.loc[j,'Perceived Trustworthiness']=data['Perceived Trustworthiness'].str.contains(j).sum()"
   ]
  },
  {
   "cell_type": "code",
   "execution_count": 202,
   "metadata": {},
   "outputs": [
    {
     "data": {
      "text/html": [
       "<div>\n",
       "<style scoped>\n",
       "    .dataframe tbody tr th:only-of-type {\n",
       "        vertical-align: middle;\n",
       "    }\n",
       "\n",
       "    .dataframe tbody tr th {\n",
       "        vertical-align: top;\n",
       "    }\n",
       "\n",
       "    .dataframe thead th {\n",
       "        text-align: right;\n",
       "    }\n",
       "</style>\n",
       "<table border=\"1\" class=\"dataframe\">\n",
       "  <thead>\n",
       "    <tr style=\"text-align: right;\">\n",
       "      <th></th>\n",
       "      <th>Perceived Trustworthiness</th>\n",
       "    </tr>\n",
       "  </thead>\n",
       "  <tbody>\n",
       "    <tr>\n",
       "      <th>Amazon.in</th>\n",
       "      <td>227.0</td>\n",
       "    </tr>\n",
       "    <tr>\n",
       "      <th>Flipkart.com</th>\n",
       "      <td>143.0</td>\n",
       "    </tr>\n",
       "    <tr>\n",
       "      <th>Paytm.com</th>\n",
       "      <td>24.0</td>\n",
       "    </tr>\n",
       "    <tr>\n",
       "      <th>Myntra.com</th>\n",
       "      <td>88.0</td>\n",
       "    </tr>\n",
       "    <tr>\n",
       "      <th>Snapdeal.com</th>\n",
       "      <td>74.0</td>\n",
       "    </tr>\n",
       "  </tbody>\n",
       "</table>\n",
       "</div>"
      ],
      "text/plain": [
       "              Perceived Trustworthiness\n",
       "Amazon.in                         227.0\n",
       "Flipkart.com                      143.0\n",
       "Paytm.com                          24.0\n",
       "Myntra.com                         88.0\n",
       "Snapdeal.com                       74.0"
      ]
     },
     "execution_count": 202,
     "metadata": {},
     "output_type": "execute_result"
    }
   ],
   "source": [
    "Gr"
   ]
  },
  {
   "cell_type": "markdown",
   "metadata": {},
   "source": [
    "Negative Factors"
   ]
  },
  {
   "cell_type": "code",
   "execution_count": 203,
   "metadata": {},
   "outputs": [],
   "source": [
    "Negative=['Longer time to get logged in (promotion, sales period)','Longer time in displaying graphics and photos (promotion, sales period)',\n",
    "'Longer page loading time (promotion, sales period)','Late declaration of price (promotion, sales period)','Limited mode of payment on most products (promotion, sales period)',\n",
    "'Longer delivery period','Change in website/Application design','Frequent disruption when moving from one page to another']\n"
   ]
  },
  {
   "cell_type": "code",
   "execution_count": 204,
   "metadata": {},
   "outputs": [],
   "source": [
    "N=pd.DataFrame()\n",
    "for i in Negative:\n",
    "    for j in ['Amazon.in','Flipkart.com','Paytm.com','Myntra.com','Snapdeal.com']:\n",
    "        N.loc[j,i]=data[i].str.contains(j).sum()\n",
    "        "
   ]
  },
  {
   "cell_type": "code",
   "execution_count": 205,
   "metadata": {},
   "outputs": [
    {
     "data": {
      "text/html": [
       "<div>\n",
       "<style scoped>\n",
       "    .dataframe tbody tr th:only-of-type {\n",
       "        vertical-align: middle;\n",
       "    }\n",
       "\n",
       "    .dataframe tbody tr th {\n",
       "        vertical-align: top;\n",
       "    }\n",
       "\n",
       "    .dataframe thead th {\n",
       "        text-align: right;\n",
       "    }\n",
       "</style>\n",
       "<table border=\"1\" class=\"dataframe\">\n",
       "  <thead>\n",
       "    <tr style=\"text-align: right;\">\n",
       "      <th></th>\n",
       "      <th>Longer time to get logged in (promotion, sales period)</th>\n",
       "      <th>Longer time in displaying graphics and photos (promotion, sales period)</th>\n",
       "      <th>Longer page loading time (promotion, sales period)</th>\n",
       "      <th>Late declaration of price (promotion, sales period)</th>\n",
       "      <th>Limited mode of payment on most products (promotion, sales period)</th>\n",
       "      <th>Longer delivery period</th>\n",
       "      <th>Change in website/Application design</th>\n",
       "      <th>Frequent disruption when moving from one page to another</th>\n",
       "    </tr>\n",
       "  </thead>\n",
       "  <tbody>\n",
       "    <tr>\n",
       "      <th>Amazon.in</th>\n",
       "      <td>135.0</td>\n",
       "      <td>126.0</td>\n",
       "      <td>68.0</td>\n",
       "      <td>56.0</td>\n",
       "      <td>104.0</td>\n",
       "      <td>37.0</td>\n",
       "      <td>141.0</td>\n",
       "      <td>78.0</td>\n",
       "    </tr>\n",
       "    <tr>\n",
       "      <th>Flipkart.com</th>\n",
       "      <td>103.0</td>\n",
       "      <td>94.0</td>\n",
       "      <td>61.0</td>\n",
       "      <td>43.0</td>\n",
       "      <td>60.0</td>\n",
       "      <td>44.0</td>\n",
       "      <td>72.0</td>\n",
       "      <td>62.0</td>\n",
       "    </tr>\n",
       "    <tr>\n",
       "      <th>Paytm.com</th>\n",
       "      <td>77.0</td>\n",
       "      <td>28.0</td>\n",
       "      <td>94.0</td>\n",
       "      <td>72.0</td>\n",
       "      <td>53.0</td>\n",
       "      <td>98.0</td>\n",
       "      <td>63.0</td>\n",
       "      <td>39.0</td>\n",
       "    </tr>\n",
       "    <tr>\n",
       "      <th>Myntra.com</th>\n",
       "      <td>35.0</td>\n",
       "      <td>74.0</td>\n",
       "      <td>68.0</td>\n",
       "      <td>75.0</td>\n",
       "      <td>7.0</td>\n",
       "      <td>26.0</td>\n",
       "      <td>37.0</td>\n",
       "      <td>66.0</td>\n",
       "    </tr>\n",
       "    <tr>\n",
       "      <th>Snapdeal.com</th>\n",
       "      <td>67.0</td>\n",
       "      <td>92.0</td>\n",
       "      <td>63.0</td>\n",
       "      <td>0.0</td>\n",
       "      <td>109.0</td>\n",
       "      <td>90.0</td>\n",
       "      <td>8.0</td>\n",
       "      <td>74.0</td>\n",
       "    </tr>\n",
       "  </tbody>\n",
       "</table>\n",
       "</div>"
      ],
      "text/plain": [
       "              Longer time to get logged in (promotion, sales period)  \\\n",
       "Amazon.in                                                 135.0        \n",
       "Flipkart.com                                              103.0        \n",
       "Paytm.com                                                  77.0        \n",
       "Myntra.com                                                 35.0        \n",
       "Snapdeal.com                                               67.0        \n",
       "\n",
       "              Longer time in displaying graphics and photos (promotion, sales period)  \\\n",
       "Amazon.in                                                 126.0                         \n",
       "Flipkart.com                                               94.0                         \n",
       "Paytm.com                                                  28.0                         \n",
       "Myntra.com                                                 74.0                         \n",
       "Snapdeal.com                                               92.0                         \n",
       "\n",
       "              Longer page loading time (promotion, sales period)  \\\n",
       "Amazon.in                                                  68.0    \n",
       "Flipkart.com                                               61.0    \n",
       "Paytm.com                                                  94.0    \n",
       "Myntra.com                                                 68.0    \n",
       "Snapdeal.com                                               63.0    \n",
       "\n",
       "              Late declaration of price (promotion, sales period)  \\\n",
       "Amazon.in                                                  56.0     \n",
       "Flipkart.com                                               43.0     \n",
       "Paytm.com                                                  72.0     \n",
       "Myntra.com                                                 75.0     \n",
       "Snapdeal.com                                                0.0     \n",
       "\n",
       "              Limited mode of payment on most products (promotion, sales period)  \\\n",
       "Amazon.in                                                 104.0                    \n",
       "Flipkart.com                                               60.0                    \n",
       "Paytm.com                                                  53.0                    \n",
       "Myntra.com                                                  7.0                    \n",
       "Snapdeal.com                                              109.0                    \n",
       "\n",
       "              Longer delivery period  Change in website/Application design  \\\n",
       "Amazon.in                       37.0                                 141.0   \n",
       "Flipkart.com                    44.0                                  72.0   \n",
       "Paytm.com                       98.0                                  63.0   \n",
       "Myntra.com                      26.0                                  37.0   \n",
       "Snapdeal.com                    90.0                                   8.0   \n",
       "\n",
       "              Frequent disruption when moving from one page to another  \n",
       "Amazon.in                                                  78.0         \n",
       "Flipkart.com                                               62.0         \n",
       "Paytm.com                                                  39.0         \n",
       "Myntra.com                                                 66.0         \n",
       "Snapdeal.com                                               74.0         "
      ]
     },
     "execution_count": 205,
     "metadata": {},
     "output_type": "execute_result"
    }
   ],
   "source": [
    "N"
   ]
  },
  {
   "cell_type": "markdown",
   "metadata": {},
   "source": [
    "Most Shopped website"
   ]
  },
  {
   "cell_type": "code",
   "execution_count": 206,
   "metadata": {},
   "outputs": [],
   "source": [
    "Max=pd.DataFrame()\n",
    "for j in ['Amazon.in','Flipkart.com','Paytm.com','Myntra.com','Snapdeal.com']:\n",
    "    Max.loc[j,'From the following, tick any (or all) of the online retailers you have shopped from;']=data['From the following, tick any (or all) of the online retailers you have shopped from;'].str.contains(j).sum()\n"
   ]
  },
  {
   "cell_type": "code",
   "execution_count": 207,
   "metadata": {},
   "outputs": [
    {
     "data": {
      "text/html": [
       "<div>\n",
       "<style scoped>\n",
       "    .dataframe tbody tr th:only-of-type {\n",
       "        vertical-align: middle;\n",
       "    }\n",
       "\n",
       "    .dataframe tbody tr th {\n",
       "        vertical-align: top;\n",
       "    }\n",
       "\n",
       "    .dataframe thead th {\n",
       "        text-align: right;\n",
       "    }\n",
       "</style>\n",
       "<table border=\"1\" class=\"dataframe\">\n",
       "  <thead>\n",
       "    <tr style=\"text-align: right;\">\n",
       "      <th></th>\n",
       "      <th>From the following, tick any (or all) of the online retailers you have shopped from;</th>\n",
       "    </tr>\n",
       "  </thead>\n",
       "  <tbody>\n",
       "    <tr>\n",
       "      <th>Amazon.in</th>\n",
       "      <td>269.0</td>\n",
       "    </tr>\n",
       "    <tr>\n",
       "      <th>Flipkart.com</th>\n",
       "      <td>221.0</td>\n",
       "    </tr>\n",
       "    <tr>\n",
       "      <th>Paytm.com</th>\n",
       "      <td>150.0</td>\n",
       "    </tr>\n",
       "    <tr>\n",
       "      <th>Myntra.com</th>\n",
       "      <td>146.0</td>\n",
       "    </tr>\n",
       "    <tr>\n",
       "      <th>Snapdeal.com</th>\n",
       "      <td>182.0</td>\n",
       "    </tr>\n",
       "  </tbody>\n",
       "</table>\n",
       "</div>"
      ],
      "text/plain": [
       "              From the following, tick any (or all) of the online retailers you have shopped from;\n",
       "Amazon.in                                                 269.0                                   \n",
       "Flipkart.com                                              221.0                                   \n",
       "Paytm.com                                                 150.0                                   \n",
       "Myntra.com                                                146.0                                   \n",
       "Snapdeal.com                                              182.0                                   "
      ]
     },
     "execution_count": 207,
     "metadata": {},
     "output_type": "execute_result"
    }
   ],
   "source": [
    "Max"
   ]
  },
  {
   "cell_type": "code",
   "execution_count": null,
   "metadata": {},
   "outputs": [],
   "source": []
  }
 ],
 "metadata": {
  "kernelspec": {
   "display_name": "Python 3",
   "language": "python",
   "name": "python3"
  },
  "language_info": {
   "codemirror_mode": {
    "name": "ipython",
    "version": 3
   },
   "file_extension": ".py",
   "mimetype": "text/x-python",
   "name": "python",
   "nbconvert_exporter": "python",
   "pygments_lexer": "ipython3",
   "version": "3.7.3"
  }
 },
 "nbformat": 4,
 "nbformat_minor": 2
}
